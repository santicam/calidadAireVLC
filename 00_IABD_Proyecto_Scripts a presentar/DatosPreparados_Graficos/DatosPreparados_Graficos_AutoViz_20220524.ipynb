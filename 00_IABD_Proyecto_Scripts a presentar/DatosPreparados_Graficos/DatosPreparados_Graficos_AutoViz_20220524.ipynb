{
 "cells": [
  {
   "cell_type": "markdown",
   "metadata": {},
   "source": [
    "## PREPARACION DE DATOS ##"
   ]
  },
  {
   "cell_type": "code",
   "execution_count": 11,
   "metadata": {},
   "outputs": [],
   "source": [
    "#!pip install autoviz"
   ]
  },
  {
   "cell_type": "code",
   "execution_count": 12,
   "metadata": {},
   "outputs": [],
   "source": [
    "import pandas as pd\n",
    "from pandas import read_csv\n",
    "from pandas import DataFrame\n",
    "from autoviz.AutoViz_Class import AutoViz_Class\n",
    "AV = AutoViz_Class()"
   ]
  },
  {
   "cell_type": "code",
   "execution_count": 13,
   "metadata": {},
   "outputs": [
    {
     "name": "stdout",
     "output_type": "stream",
     "text": [
      "Shape of your Data Set loaded: (18257, 19)\n",
      "#######################################################################################\n",
      "######################## C L A S S I F Y I N G  V A R I A B L E S  ####################\n",
      "#######################################################################################\n",
      "Classifying variables in data set...\n",
      "    19 Predictors classified...\n",
      "        No variables removed since no ID or low-information variables found in data set\n",
      "Number of All Scatter Plots = 120\n",
      "Could not draw wordcloud plot for FECHA\n",
      "Could not draw wordcloud plot for HoraRacha\n",
      "Time to run AutoViz = 9 seconds \n",
      "\n",
      " ###################### AUTO VISUALIZATION Completed ########################\n"
     ]
    }
   ],
   "source": [
    "filename = \"../datos/airWeather_2013-2019inter.csv\"\n",
    "sep = \";\"\n",
    "dft = AV.AutoViz(\n",
    "    filename,\n",
    "    sep,\n",
    "    depVar=\"\",\n",
    "    dfte=None,\n",
    "    header=0,\n",
    "    verbose=0,\n",
    "    lowess=False,\n",
    "    chart_format=\"svg\",\n",
    "    max_rows_analyzed=150000,\n",
    "    max_cols_analyzed=30,\n",
    "    save_plot_dir=None\n",
    ")"
   ]
  }
 ],
 "metadata": {
  "interpreter": {
   "hash": "1367dffcfb3347986e5fe763daa425025b276996efb972366b86e3a6ad60a74d"
  },
  "kernelspec": {
   "display_name": "Python 3.9.12 ('base')",
   "language": "python",
   "name": "python3"
  },
  "language_info": {
   "codemirror_mode": {
    "name": "ipython",
    "version": 3
   },
   "file_extension": ".py",
   "mimetype": "text/x-python",
   "name": "python",
   "nbconvert_exporter": "python",
   "pygments_lexer": "ipython3",
   "version": "3.9.12"
  },
  "orig_nbformat": 4
 },
 "nbformat": 4,
 "nbformat_minor": 2
}
