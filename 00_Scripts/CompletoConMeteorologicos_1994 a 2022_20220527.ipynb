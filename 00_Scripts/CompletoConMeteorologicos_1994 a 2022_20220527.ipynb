{
  "cells": [
    {
      "cell_type": "markdown",
      "metadata": {
        "id": "3xo9ww5qu4JO"
      },
      "source": [
        "Importamos las librerias necesarias"
      ]
    },
    {
      "cell_type": "code",
      "execution_count": 1,
      "metadata": {
        "id": "4UFKBtjCu4JR"
      },
      "outputs": [],
      "source": [
        "import pandas as pd\n",
        "import numpy as np\n",
        "import os"
      ]
    },
    {
      "cell_type": "markdown",
      "metadata": {
        "id": "H2UB9ouYu4JT"
      },
      "source": [
        "Creamos las variables que guardan las rutas de los archivos fuente de datos para lectura y grabación de los mismos"
      ]
    },
    {
      "cell_type": "code",
      "execution_count": 2,
      "metadata": {
        "colab": {
          "base_uri": "https://localhost:8080/"
        },
        "id": "53VRUfXtxiXI",
        "outputId": "a7d71992-4c61-40b6-98db-65ec188ccb38"
      },
      "outputs": [
        {
          "data": {
            "text/plain": [
              "\"\\n# Inicializar entorno de rutas en google drive para carga de archivos \\nfrom google.colab import drive\\ndrive.mount('/content/drive')\\n\""
            ]
          },
          "execution_count": 2,
          "metadata": {},
          "output_type": "execute_result"
        }
      ],
      "source": [
        "'''\n",
        "# Inicializar entorno de rutas en google drive para carga de archivos \n",
        "from google.colab import drive\n",
        "drive.mount('/content/drive')\n",
        "'''"
      ]
    },
    {
      "cell_type": "code",
      "execution_count": 3,
      "metadata": {
        "id": "HezjE_S2u4JT"
      },
      "outputs": [],
      "source": [
        "#Nombre del directorio de datos para rutas de ejecucion en ENTORNO LOCAL\n",
        "PATH = \"datoscsv/\"\n",
        "pathname = os.path.join(PATH)"
      ]
    },
    {
      "cell_type": "code",
      "execution_count": 4,
      "metadata": {
        "colab": {
          "base_uri": "https://localhost:8080/"
        },
        "id": "XhtGQzBgu4JU",
        "outputId": "8e33f5b7-fb58-4d1a-86c2-26815efb9315"
      },
      "outputs": [
        {
          "name": "stderr",
          "output_type": "stream",
          "text": [
            "/tmp/ipykernel_8781/107938001.py:4: DtypeWarning: Columns (11,23,43) have mixed types. Specify dtype option on import or set low_memory=False.\n",
            "  maindf = pd.read_csv(pathname +'Valencia_Estaciones_SinMeteo_1994 a 2022.csv', delimiter=';', decimal=\".\")\n"
          ]
        },
        {
          "data": {
            "text/plain": [
              "'\\n# cargar dataframes Version Colab en Drive\\nmaindf = pd.read_csv(\"/content/drive/MyDrive/IABD_Proyecto/20220515_IABD_PRJ_Dev_MIKEL/Diarios_2013-2019/Diarios_2013-2019.csv\",sep=\";\",decimal=\".\")\\nclimadf = pd.read_csv(\"/content/drive/MyDrive/IABD_Proyecto/20220515_IABD_PRJ_Dev_MIKEL/clima/CLIMA_2013-2019.csv\", delimiter=\\',\\', decimal=\".\")\\n'"
            ]
          },
          "execution_count": 4,
          "metadata": {},
          "output_type": "execute_result"
        }
      ],
      "source": [
        "# cargar dataframes Version Local\n",
        "\n",
        "climadf = pd.read_csv(pathname+\"clima_2013-2022.csv\",sep=\",\",decimal=\".\")\n",
        "maindf = pd.read_csv(pathname +'Valencia_Estaciones_SinMeteo_1994 a 2022.csv', delimiter=';', decimal=\".\")\n",
        "'''\n",
        "# cargar dataframes Version Colab en Drive\n",
        "maindf = pd.read_csv(\"/content/drive/MyDrive/IABD_Proyecto/20220515_IABD_PRJ_Dev_MIKEL/Diarios_2013-2019/Diarios_2013-2019.csv\",sep=\";\",decimal=\".\")\n",
        "climadf = pd.read_csv(\"/content/drive/MyDrive/IABD_Proyecto/20220515_IABD_PRJ_Dev_MIKEL/clima/CLIMA_2013-2019.csv\", delimiter=',', decimal=\".\")\n",
        "'''"
      ]
    },
    {
      "cell_type": "code",
      "execution_count": 5,
      "metadata": {},
      "outputs": [
        {
          "data": {
            "text/plain": [
              "Index(['FECHA ', 'Racha Max (Km/h) ', 'Hora Racha ', 'Veloc (Media)',\n",
              "       'Precipitación: l/m2', 'T. Máxima ', 'T.Mínima'],\n",
              "      dtype='object')"
            ]
          },
          "execution_count": 5,
          "metadata": {},
          "output_type": "execute_result"
        }
      ],
      "source": [
        "climadf.columns"
      ]
    },
    {
      "cell_type": "code",
      "execution_count": 6,
      "metadata": {},
      "outputs": [
        {
          "data": {
            "text/plain": [
              "Index(['COD_ESTACION', 'NOM_ESTACION', 'FECHA', 'SO2', 'CO', 'NO', 'NO2',\n",
              "       'NOx', 'O3', 'PM10', 'PM2.5', 'PM1', 'NH3', 'C6H6', 'C7H8', 'C8H10',\n",
              "       'Direc.', 'H.Rel.', 'Precip.', 'Pres.', 'R.Sol.', 'Ruido', 'Temp.',\n",
              "       'UVB', 'Veloc.', 'Veloc.max.', 'As', 'BaA', 'BaP', 'BbFA', 'BjFA',\n",
              "       'BkFA', 'Cd', 'CH4', 'DahA', 'FA', 'HCT', 'HMN', 'HNM', 'H2S', 'IcdP',\n",
              "       'Ni', 'Pb', 'PST'],\n",
              "      dtype='object')"
            ]
          },
          "execution_count": 6,
          "metadata": {},
          "output_type": "execute_result"
        }
      ],
      "source": [
        "maindf.columns"
      ]
    },
    {
      "cell_type": "markdown",
      "metadata": {
        "id": "cCHB_WHsu4JV"
      },
      "source": [
        "- Aseguramos que el tipo de datos en campo fecha sea `datetime`\n",
        "- Aseguramos el uso de la puntuación decimal y la conversión de tipos a numérico de todas aquellas observaciones que sean de esa naturaleza"
      ]
    },
    {
      "cell_type": "code",
      "execution_count": 7,
      "metadata": {
        "id": "HOYHcatou4JV"
      },
      "outputs": [],
      "source": [
        "# Convertir la fecha a formato datetime\n",
        "climadf['FECHA '] = pd.to_datetime(climadf['FECHA '], format=\"%d-%m-%Y\")\n",
        "columclima = climadf.columns.to_list()\n",
        "borra3 = 'FECHA '\n",
        "borra = 'Hora Racha '\n",
        "columclima = list(filter((borra3).__ne__,columclima))\n",
        "columclima = list(filter((borra).__ne__,columclima))\n",
        "for colcli in columclima:\n",
        "    climadf[colcli] = climadf[colcli].replace(',','.', regex=True)\n",
        "    climadf[colcli] = climadf[colcli].apply(pd.to_numeric)"
      ]
    },
    {
      "cell_type": "markdown",
      "metadata": {
        "id": "mHGP5UrTu4JW"
      },
      "source": [
        "- Eliminamos las columnas cuyo porcentaje de Nan , nulos o similares esta por encima del 90%\n",
        "- Aseguramos que el tipo de datos en campos de texto y fecha sea el que corresponde"
      ]
    },
    {
      "cell_type": "code",
      "execution_count": 8,
      "metadata": {
        "id": "ZTTORoDFu4JX"
      },
      "outputs": [],
      "source": [
        "'''\n",
        "maindf.drop([ 'BaP','BbFA','BjFA','BkFA','PST', 'UVB','H2S', 'HNM', 'IcdP', 'HCT','HMN', 'FA', 'DahA', 'CH4', 'BaA'] , axis=1, inplace= True)\n",
        "maindf.drop([ 'NH3','C6H6','C7H8','C8H10','As', 'Cd','Ni', 'Pb'] , axis=1, inplace= True)\n",
        "'''\n",
        "# Convertir las cadenas a formato string\n",
        "maindf['COD_ESTACION'] = maindf['COD_ESTACION'].astype(str)\n",
        "maindf['NOM_ESTACION'] = maindf['NOM_ESTACION'].astype(str)\n",
        "# Convertir la fecha a formato datetime\n",
        "#maindf['FECHA'] = pd.to_datetime(maindf['FECHA'], format=\"%d-%m-%y\")\n",
        "maindf['FECHA'] = pd.to_datetime(maindf['FECHA'], format=\"%Y-%m-%d\")"
      ]
    },
    {
      "cell_type": "markdown",
      "metadata": {
        "id": "KE9-Mk6-u4JX"
      },
      "source": [
        "Aseguramos el uso de la puntuación decimal y la conversión de tipos a numérico de todas aquellas observaciones que sean de esa naturaleza"
      ]
    },
    {
      "cell_type": "code",
      "execution_count": 9,
      "metadata": {
        "id": "2bXWQFA8u4JY"
      },
      "outputs": [],
      "source": [
        "columnas = maindf.columns.to_list()\n",
        "borra1 = \"COD_ESTACION\"\n",
        "borra2 = 'NOM_ESTACION'\n",
        "borra3 = 'FECHA'\n",
        "columnas = list(filter((borra1).__ne__,columnas))\n",
        "columnas = list(filter((borra2).__ne__,columnas))\n",
        "columnas = list(filter((borra3).__ne__,columnas))"
      ]
    },
    {
      "cell_type": "code",
      "execution_count": 10,
      "metadata": {
        "id": "42Ta-Sucu4JY"
      },
      "outputs": [],
      "source": [
        "for col in columnas:\n",
        "    maindf[col] = maindf[col].replace(',','.', regex=True)\n",
        "    maindf[col] = maindf[col].apply(pd.to_numeric)"
      ]
    },
    {
      "cell_type": "markdown",
      "metadata": {
        "id": "YsWvkVTnu4JZ"
      },
      "source": [
        "### Fusion de Dataframes de clima y calidad del aire ###\n",
        "- El campo comun es la fecha.\n",
        "- Los datos de las columnas de clima se repetiran en todas las fechas coincidentes del dataframe resultante.\n",
        "- Al tratarse de lecturas de datos climatológicos de toda la ciudad ( dataframe `climadf`), todas las estationes tendrán los mismos datos climáticos , en caso de que originalmente esas observaciones estén vacios en el dataframe `maindf`. "
      ]
    },
    {
      "cell_type": "code",
      "execution_count": 11,
      "metadata": {
        "id": "8kb_8eNVu4JZ"
      },
      "outputs": [],
      "source": [
        "df = pd.merge(left=maindf, right=climadf, how='left', left_on='FECHA', right_on='FECHA ')"
      ]
    },
    {
      "cell_type": "markdown",
      "metadata": {
        "id": "pjDVhsbTu4Ja"
      },
      "source": [
        "Eliminamos las filas correspondientes a la estación Valencia Albufera por motivos geograficos ( mediciones fuera del area metropolitana ) y presencia únicamente en algunos años dentro del rango tratado"
      ]
    },
    {
      "cell_type": "code",
      "execution_count": 12,
      "metadata": {
        "id": "aEnDPOO2u4Ja"
      },
      "outputs": [
        {
          "data": {
            "text/plain": [
              "\"\\nindexNames = df[ df['COD_ESTACION'] == '46250051' ].index\\n# Delete these row indexes from dataFrame\\ndf.drop(indexNames , inplace=True)\\n\""
            ]
          },
          "execution_count": 12,
          "metadata": {},
          "output_type": "execute_result"
        }
      ],
      "source": [
        "'''\n",
        "indexNames = df[ df['COD_ESTACION'] == '46250051' ].index\n",
        "# Delete these row indexes from dataFrame\n",
        "df.drop(indexNames , inplace=True)\n",
        "'''"
      ]
    },
    {
      "cell_type": "markdown",
      "metadata": {
        "id": "EbRfE_7pu4Ja"
      },
      "source": [
        "En el caso de la temperatura los huecos se rellenarán con la media calculada de las temperaturas máxima y mínima que provienen del dataframe de clima (`climadf`)\n",
        "\n",
        "`Tmedia = df.loc[:,'TempMax':'TempMin'].mean(axis=1)`\n",
        "\n",
        "`df.loc[df['Temp'].isna(),'Temp']=Tmedia`"
      ]
    },
    {
      "cell_type": "markdown",
      "metadata": {
        "id": "JawRcnWZu4Ja"
      },
      "source": [
        "- Eliminamos las columnas repetidas y las que porcentaje de Nan , nulos o similares esta por encima del 80%"
      ]
    },
    {
      "cell_type": "code",
      "execution_count": 13,
      "metadata": {
        "id": "MQD52n9su4Jb"
      },
      "outputs": [],
      "source": [
        "# actualizar columna 'Temp.' con 'TEMP' cuando el campo 'Temp.' no tenga valor\n",
        "Tmedia = df.loc[:,'T. Máxima ':'T.Mínima'].mean(axis=1)\n",
        "df.loc[df['Temp.'].isna(),'Temp.']=Tmedia\n",
        "df.loc[df['Precip.'].isna(),'Precip.']=df['Precipitación: l/m2']\n",
        "df.loc[df['Veloc.'].isna(),'Veloc.']=df['Veloc (Media)']\n",
        "df.loc[df['Veloc.max.'].isna(),'Veloc.max.']=df['Racha Max (Km/h) ']\n",
        "df.drop([ 'Precipitación: l/m2','T. Máxima ','Racha Max (Km/h) ', 'Hora Racha ','FECHA ','T.Mínima','Veloc (Media)'] , axis=1, inplace= True)"
      ]
    },
    {
      "cell_type": "markdown",
      "metadata": {
        "id": "hJQje0MVu4Jb"
      },
      "source": [
        "Esta operación permite una reducción drástica de los porcentajes de valores NaN , nulos o similares.\n",
        "\n",
        "Aumentando así la fiabiliad en los pasos posteriores."
      ]
    },
    {
      "cell_type": "code",
      "execution_count": 14,
      "metadata": {
        "colab": {
          "base_uri": "https://localhost:8080/"
        },
        "id": "t23Ut-nfu4Jb",
        "outputId": "4ebd374c-6644-4631-8ee9-9a876d564fa6"
      },
      "outputs": [
        {
          "data": {
            "text/plain": [
              "COD_ESTACION     0.000000\n",
              "NOM_ESTACION     0.000000\n",
              "FECHA            0.000000\n",
              "SO2             21.657619\n",
              "CO              61.398982\n",
              "NO              49.363332\n",
              "NO2             49.459602\n",
              "NOx             49.335543\n",
              "O3              48.218025\n",
              "PM10            75.391776\n",
              "PM2.5           80.052402\n",
              "PM1             88.897270\n",
              "NH3             97.679612\n",
              "C6H6            95.944779\n",
              "C7H8            96.229617\n",
              "C8H10           95.933862\n",
              "Direc.          83.500233\n",
              "H.Rel.          88.442720\n",
              "Precip.         95.601385\n",
              "Pres.           88.892307\n",
              "R.Sol.          88.313699\n",
              "Ruido           77.601008\n",
              "Temp.           88.159867\n",
              "UVB             99.760815\n",
              "Veloc.          83.488324\n",
              "Veloc.max.      96.652408\n",
              "As              97.101003\n",
              "BaA             99.760815\n",
              "BaP             99.718139\n",
              "BbFA            99.813416\n",
              "BjFA            99.815401\n",
              "BkFA            99.815401\n",
              "Cd              97.159559\n",
              "CH4             96.232595\n",
              "DahA            99.792574\n",
              "FA              99.819371\n",
              "HCT             96.255421\n",
              "HMN             72.739904\n",
              "HNM             96.276263\n",
              "H2S             99.655614\n",
              "IcdP            99.815401\n",
              "Ni              97.157574\n",
              "Pb              92.790718\n",
              "PST             78.386050\n",
              "dtype: float64"
            ]
          },
          "execution_count": 14,
          "metadata": {},
          "output_type": "execute_result"
        }
      ],
      "source": [
        "maindf.isnull().sum()/len(maindf)*100"
      ]
    },
    {
      "cell_type": "code",
      "execution_count": 15,
      "metadata": {
        "colab": {
          "base_uri": "https://localhost:8080/"
        },
        "id": "oNTiUMR8u4Jc",
        "outputId": "72e56ee7-5450-4297-ccfe-51a4d5041eb9"
      },
      "outputs": [
        {
          "data": {
            "text/plain": [
              "COD_ESTACION     0.000000\n",
              "NOM_ESTACION     0.000000\n",
              "FECHA            0.000000\n",
              "SO2             21.657884\n",
              "CO              61.399069\n",
              "NO              49.360406\n",
              "NO2             49.456667\n",
              "NOx             49.332619\n",
              "O3              48.216182\n",
              "PM10            75.387776\n",
              "PM2.5           80.049024\n",
              "PM1             88.897159\n",
              "NH3             97.678804\n",
              "C6H6            95.944109\n",
              "C7H8            96.228924\n",
              "C8H10           95.933192\n",
              "Direc.          83.499558\n",
              "H.Rel.          88.442645\n",
              "Precip.         75.471136\n",
              "Pres.           88.892197\n",
              "R.Sol.          88.313634\n",
              "Ruido           77.601794\n",
              "Temp.           68.957099\n",
              "UVB             99.760834\n",
              "Veloc.          67.171792\n",
              "Veloc.max.      75.481060\n",
              "As              97.099249\n",
              "BaA             99.760834\n",
              "BaP             99.718162\n",
              "BbFA            99.813431\n",
              "BjFA            99.815416\n",
              "BkFA            99.815416\n",
              "Cd              97.157800\n",
              "CH4             96.232894\n",
              "DahA            99.792591\n",
              "FA              99.819385\n",
              "HCT             96.255719\n",
              "HMN             72.742068\n",
              "HNM             96.276559\n",
              "H2S             99.655641\n",
              "IcdP            99.815416\n",
              "Ni              97.155815\n",
              "Pb              92.789306\n",
              "PST             78.387766\n",
              "dtype: float64"
            ]
          },
          "execution_count": 15,
          "metadata": {},
          "output_type": "execute_result"
        }
      ],
      "source": [
        "df.isnull().sum()/len(df)*100"
      ]
    },
    {
      "cell_type": "code",
      "execution_count": 16,
      "metadata": {},
      "outputs": [
        {
          "data": {
            "text/plain": [
              "Index(['COD_ESTACION', 'NOM_ESTACION', 'FECHA', 'SO2', 'CO', 'NO', 'NO2',\n",
              "       'NOx', 'O3', 'PM10', 'PM2.5', 'PM1', 'NH3', 'C6H6', 'C7H8', 'C8H10',\n",
              "       'Direc.', 'H.Rel.', 'Precip.', 'Pres.', 'R.Sol.', 'Ruido', 'Temp.',\n",
              "       'UVB', 'Veloc.', 'Veloc.max.', 'As', 'BaA', 'BaP', 'BbFA', 'BjFA',\n",
              "       'BkFA', 'Cd', 'CH4', 'DahA', 'FA', 'HCT', 'HMN', 'HNM', 'H2S', 'IcdP',\n",
              "       'Ni', 'Pb', 'PST'],\n",
              "      dtype='object')"
            ]
          },
          "execution_count": 16,
          "metadata": {},
          "output_type": "execute_result"
        }
      ],
      "source": [
        "df.columns"
      ]
    },
    {
      "cell_type": "code",
      "execution_count": 17,
      "metadata": {},
      "outputs": [],
      "source": [
        "df.drop(['PST','HMN','DahA','R.Sol.','Ruido','Pres.','H.Rel.','Direc.','IcdP','UVB','Ni', 'Pb','NH3','C6H6','C7H8','C8H10','H2S', 'HNM','BaP','BbFA', 'As', 'BaA','FA', 'CH4', 'BjFA','BkFA','Cd','HCT',] , axis=1, inplace= True)"
      ]
    },
    {
      "cell_type": "code",
      "execution_count": 18,
      "metadata": {},
      "outputs": [
        {
          "data": {
            "text/plain": [
              "COD_ESTACION     0.000000\n",
              "NOM_ESTACION     0.000000\n",
              "FECHA            0.000000\n",
              "SO2             21.657884\n",
              "CO              61.399069\n",
              "NO              49.360406\n",
              "NO2             49.456667\n",
              "NOx             49.332619\n",
              "O3              48.216182\n",
              "PM10            75.387776\n",
              "PM2.5           80.049024\n",
              "PM1             88.897159\n",
              "Precip.         75.471136\n",
              "Temp.           68.957099\n",
              "Veloc.          67.171792\n",
              "Veloc.max.      75.481060\n",
              "dtype: float64"
            ]
          },
          "execution_count": 18,
          "metadata": {},
          "output_type": "execute_result"
        }
      ],
      "source": [
        "df.isnull().sum()/len(df)*100"
      ]
    },
    {
      "cell_type": "code",
      "execution_count": 19,
      "metadata": {},
      "outputs": [
        {
          "data": {
            "text/plain": [
              "Index(['COD_ESTACION', 'NOM_ESTACION', 'FECHA', 'SO2', 'CO', 'NO', 'NO2',\n",
              "       'NOx', 'O3', 'PM10', 'PM2.5', 'PM1', 'Precip.', 'Temp.', 'Veloc.',\n",
              "       'Veloc.max.'],\n",
              "      dtype='object')"
            ]
          },
          "execution_count": 19,
          "metadata": {},
          "output_type": "execute_result"
        }
      ],
      "source": [
        "df.columns"
      ]
    },
    {
      "cell_type": "code",
      "execution_count": 20,
      "metadata": {
        "colab": {
          "base_uri": "https://localhost:8080/",
          "height": 520
        },
        "id": "pCjAAiT85HZ3",
        "outputId": "d21152f3-89b9-4f1e-d302-928a7ea6c5fd"
      },
      "outputs": [
        {
          "data": {
            "text/html": [
              "<div>\n",
              "<style scoped>\n",
              "    .dataframe tbody tr th:only-of-type {\n",
              "        vertical-align: middle;\n",
              "    }\n",
              "\n",
              "    .dataframe tbody tr th {\n",
              "        vertical-align: top;\n",
              "    }\n",
              "\n",
              "    .dataframe thead th {\n",
              "        text-align: right;\n",
              "    }\n",
              "</style>\n",
              "<table border=\"1\" class=\"dataframe\">\n",
              "  <thead>\n",
              "    <tr style=\"text-align: right;\">\n",
              "      <th></th>\n",
              "      <th>count</th>\n",
              "      <th>mean</th>\n",
              "      <th>std</th>\n",
              "      <th>min</th>\n",
              "      <th>25%</th>\n",
              "      <th>50%</th>\n",
              "      <th>75%</th>\n",
              "      <th>max</th>\n",
              "    </tr>\n",
              "  </thead>\n",
              "  <tbody>\n",
              "    <tr>\n",
              "      <th>SO2</th>\n",
              "      <td>78943.0</td>\n",
              "      <td>12.530661</td>\n",
              "      <td>13.704414</td>\n",
              "      <td>0.0</td>\n",
              "      <td>3.0</td>\n",
              "      <td>7.0</td>\n",
              "      <td>18.0</td>\n",
              "      <td>321.0</td>\n",
              "    </tr>\n",
              "    <tr>\n",
              "      <th>CO</th>\n",
              "      <td>38897.0</td>\n",
              "      <td>0.940908</td>\n",
              "      <td>1.206533</td>\n",
              "      <td>0.0</td>\n",
              "      <td>0.2</td>\n",
              "      <td>0.4</td>\n",
              "      <td>1.3</td>\n",
              "      <td>53.6</td>\n",
              "    </tr>\n",
              "    <tr>\n",
              "      <th>NO</th>\n",
              "      <td>51028.0</td>\n",
              "      <td>36.020067</td>\n",
              "      <td>47.371074</td>\n",
              "      <td>0.0</td>\n",
              "      <td>6.0</td>\n",
              "      <td>18.0</td>\n",
              "      <td>48.0</td>\n",
              "      <td>623.0</td>\n",
              "    </tr>\n",
              "    <tr>\n",
              "      <th>NO2</th>\n",
              "      <td>50931.0</td>\n",
              "      <td>43.603974</td>\n",
              "      <td>30.159836</td>\n",
              "      <td>0.0</td>\n",
              "      <td>21.0</td>\n",
              "      <td>37.0</td>\n",
              "      <td>59.0</td>\n",
              "      <td>599.0</td>\n",
              "    </tr>\n",
              "    <tr>\n",
              "      <th>NOx</th>\n",
              "      <td>51056.0</td>\n",
              "      <td>98.563969</td>\n",
              "      <td>98.459603</td>\n",
              "      <td>0.0</td>\n",
              "      <td>30.0</td>\n",
              "      <td>65.0</td>\n",
              "      <td>133.0</td>\n",
              "      <td>1189.0</td>\n",
              "    </tr>\n",
              "    <tr>\n",
              "      <th>O3</th>\n",
              "      <td>52181.0</td>\n",
              "      <td>40.093655</td>\n",
              "      <td>20.527114</td>\n",
              "      <td>2.0</td>\n",
              "      <td>24.0</td>\n",
              "      <td>39.0</td>\n",
              "      <td>55.0</td>\n",
              "      <td>193.0</td>\n",
              "    </tr>\n",
              "    <tr>\n",
              "      <th>PM10</th>\n",
              "      <td>24801.0</td>\n",
              "      <td>20.758631</td>\n",
              "      <td>12.723948</td>\n",
              "      <td>0.0</td>\n",
              "      <td>12.0</td>\n",
              "      <td>18.0</td>\n",
              "      <td>27.0</td>\n",
              "      <td>209.0</td>\n",
              "    </tr>\n",
              "    <tr>\n",
              "      <th>PM2.5</th>\n",
              "      <td>20104.0</td>\n",
              "      <td>12.677965</td>\n",
              "      <td>8.392583</td>\n",
              "      <td>0.0</td>\n",
              "      <td>7.0</td>\n",
              "      <td>11.0</td>\n",
              "      <td>16.0</td>\n",
              "      <td>104.0</td>\n",
              "    </tr>\n",
              "    <tr>\n",
              "      <th>PM1</th>\n",
              "      <td>11188.0</td>\n",
              "      <td>9.308286</td>\n",
              "      <td>6.987852</td>\n",
              "      <td>0.0</td>\n",
              "      <td>4.0</td>\n",
              "      <td>7.0</td>\n",
              "      <td>12.0</td>\n",
              "      <td>92.0</td>\n",
              "    </tr>\n",
              "    <tr>\n",
              "      <th>Precip.</th>\n",
              "      <td>24717.0</td>\n",
              "      <td>1.264179</td>\n",
              "      <td>9.339254</td>\n",
              "      <td>0.0</td>\n",
              "      <td>0.0</td>\n",
              "      <td>0.0</td>\n",
              "      <td>0.0</td>\n",
              "      <td>936.9</td>\n",
              "    </tr>\n",
              "    <tr>\n",
              "      <th>Temp.</th>\n",
              "      <td>31281.0</td>\n",
              "      <td>19.075485</td>\n",
              "      <td>5.760114</td>\n",
              "      <td>3.1</td>\n",
              "      <td>14.1</td>\n",
              "      <td>18.9</td>\n",
              "      <td>24.1</td>\n",
              "      <td>62.0</td>\n",
              "    </tr>\n",
              "    <tr>\n",
              "      <th>Veloc.</th>\n",
              "      <td>33080.0</td>\n",
              "      <td>7.615254</td>\n",
              "      <td>7.039828</td>\n",
              "      <td>0.0</td>\n",
              "      <td>1.1</td>\n",
              "      <td>6.0</td>\n",
              "      <td>13.0</td>\n",
              "      <td>69.0</td>\n",
              "    </tr>\n",
              "    <tr>\n",
              "      <th>Veloc.max.</th>\n",
              "      <td>24707.0</td>\n",
              "      <td>26.515858</td>\n",
              "      <td>13.274134</td>\n",
              "      <td>0.0</td>\n",
              "      <td>19.0</td>\n",
              "      <td>26.0</td>\n",
              "      <td>33.0</td>\n",
              "      <td>125.0</td>\n",
              "    </tr>\n",
              "  </tbody>\n",
              "</table>\n",
              "</div>"
            ],
            "text/plain": [
              "              count       mean        std  min   25%   50%    75%     max\n",
              "SO2         78943.0  12.530661  13.704414  0.0   3.0   7.0   18.0   321.0\n",
              "CO          38897.0   0.940908   1.206533  0.0   0.2   0.4    1.3    53.6\n",
              "NO          51028.0  36.020067  47.371074  0.0   6.0  18.0   48.0   623.0\n",
              "NO2         50931.0  43.603974  30.159836  0.0  21.0  37.0   59.0   599.0\n",
              "NOx         51056.0  98.563969  98.459603  0.0  30.0  65.0  133.0  1189.0\n",
              "O3          52181.0  40.093655  20.527114  2.0  24.0  39.0   55.0   193.0\n",
              "PM10        24801.0  20.758631  12.723948  0.0  12.0  18.0   27.0   209.0\n",
              "PM2.5       20104.0  12.677965   8.392583  0.0   7.0  11.0   16.0   104.0\n",
              "PM1         11188.0   9.308286   6.987852  0.0   4.0   7.0   12.0    92.0\n",
              "Precip.     24717.0   1.264179   9.339254  0.0   0.0   0.0    0.0   936.9\n",
              "Temp.       31281.0  19.075485   5.760114  3.1  14.1  18.9   24.1    62.0\n",
              "Veloc.      33080.0   7.615254   7.039828  0.0   1.1   6.0   13.0    69.0\n",
              "Veloc.max.  24707.0  26.515858  13.274134  0.0  19.0  26.0   33.0   125.0"
            ]
          },
          "execution_count": 20,
          "metadata": {},
          "output_type": "execute_result"
        }
      ],
      "source": [
        "df.describe().transpose()"
      ]
    },
    {
      "cell_type": "markdown",
      "metadata": {
        "id": "g9TYhI3uu4Jc"
      },
      "source": [
        "Finalmente guardamos el resultado en un fichero csv para futuras tareas."
      ]
    },
    {
      "cell_type": "code",
      "execution_count": 21,
      "metadata": {
        "id": "HWrxI732u4Jc"
      },
      "outputs": [],
      "source": [
        "# Guarda datos en CSV:\n",
        "df.to_csv(pathname+'Valencia_TODASEstaciones_CON_Meteo_1994_2022.csv', header=True, sep=';', index=False)"
      ]
    }
  ],
  "metadata": {
    "colab": {
      "name": "DataframeCompletoConMeteorologicos.ipynb",
      "provenance": []
    },
    "interpreter": {
      "hash": "1367dffcfb3347986e5fe763daa425025b276996efb972366b86e3a6ad60a74d"
    },
    "kernelspec": {
      "display_name": "Python 3.9.7 ('base')",
      "language": "python",
      "name": "python3"
    },
    "language_info": {
      "codemirror_mode": {
        "name": "ipython",
        "version": 3
      },
      "file_extension": ".py",
      "mimetype": "text/x-python",
      "name": "python",
      "nbconvert_exporter": "python",
      "pygments_lexer": "ipython3",
      "version": "3.9.12"
    },
    "orig_nbformat": 4
  },
  "nbformat": 4,
  "nbformat_minor": 0
}
