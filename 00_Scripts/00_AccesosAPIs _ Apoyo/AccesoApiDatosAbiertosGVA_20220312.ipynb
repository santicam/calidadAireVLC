{
 "cells": [
  {
   "cell_type": "markdown",
   "metadata": {},
   "source": [
    "### ACCESO A LA API DE DATOS ABIERTOS DE GVA ###\n",
    "#### Crear ####\n",
    "`https://dadesobertes.gva.es/es/api/3/action/datastore_create`\n",
    "\n",
    "#### Actualizar / Insertar ####\n",
    "`https://dadesobertes.gva.es/es/api/3/action/datastore_upsert`\n",
    "\n",
    "#### Consulta ####\n",
    "`https://dadesobertes.gva.es/es/api/3/action/datastore_search`\n",
    "##### Ejemplo (primeros cinco resultados) #####\n",
    "`https://dadesobertes.gva.es/es/api/3/action/datastore_search?resource_id=9df33118-59e6-4a50-9381-9e85e99b61e5&limit=5`\n",
    "##### Ejemplo (resultados que contienen 'jones') #####\n",
    "`https://dadesobertes.gva.es/es/api/3/action/datastore_search?q=jones&resource_id=9df33118-59e6-4a50-9381-9e85e99b61e5`\n",
    "\n",
    "#### Consulta (vía SQL) ####\n",
    "`https://dadesobertes.gva.es/es/api/3/action/datastore_search_sql`\n",
    "##### Ejemplo #####\n",
    "`https://dadesobertes.gva.es/es/api/3/action/datastore_search_sql?sql=SELECT * from \"9df33118-59e6-4a50-9381-9e85e99b61e5\" WHERE title LIKE 'jones'`"
   ]
  }
 ],
 "metadata": {
  "language_info": {
   "name": "python"
  },
  "orig_nbformat": 4
 },
 "nbformat": 4,
 "nbformat_minor": 2
}
