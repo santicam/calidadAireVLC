{
  "cells": [
    {
      "cell_type": "markdown",
      "metadata": {
        "id": "3xo9ww5qu4JO"
      },
      "source": [
        "Importamos las librerias necesarias"
      ]
    },
    {
      "cell_type": "code",
      "execution_count": 1,
      "metadata": {
        "id": "4UFKBtjCu4JR"
      },
      "outputs": [],
      "source": [
        "import pandas as pd\n",
        "import numpy as np\n",
        "import os"
      ]
    },
    {
      "cell_type": "markdown",
      "metadata": {
        "id": "H2UB9ouYu4JT"
      },
      "source": [
        "Creamos las variables que guardan las rutas de los archivos fuente de datos para lectura y grabación de los mismos"
      ]
    },
    {
      "cell_type": "code",
      "source": [
        "# Inicializar entorno de rutas en google drive para carga de archivos \n",
        "from google.colab import drive\n",
        "drive.mount('/content/drive')"
      ],
      "metadata": {
        "colab": {
          "base_uri": "https://localhost:8080/"
        },
        "id": "53VRUfXtxiXI",
        "outputId": "a7d71992-4c61-40b6-98db-65ec188ccb38"
      },
      "execution_count": 2,
      "outputs": [
        {
          "output_type": "stream",
          "name": "stdout",
          "text": [
            "Mounted at /content/drive\n"
          ]
        }
      ]
    },
    {
      "cell_type": "code",
      "execution_count": null,
      "metadata": {
        "id": "HezjE_S2u4JT"
      },
      "outputs": [],
      "source": [
        "#Nombre del directorio de datos para rutas de ejecucion en ENTORNO LOCAL\n",
        "PATH_read_clima = \"clima\"\n",
        "PATH_read_datos = \"Diarios_2013-2019\"\n",
        "PATH_write = \"datoscsv\"\n",
        "pathclima = os.path.join(PATH_read_clima)\n",
        "pathdatos = os.path.join(PATH_read_datos)\n",
        "pathgraba = os.path.join(PATH_write)"
      ]
    },
    {
      "cell_type": "code",
      "execution_count": 3,
      "metadata": {
        "colab": {
          "base_uri": "https://localhost:8080/"
        },
        "id": "XhtGQzBgu4JU",
        "outputId": "8e33f5b7-fb58-4d1a-86c2-26815efb9315"
      },
      "outputs": [
        {
          "output_type": "stream",
          "name": "stderr",
          "text": [
            "/usr/local/lib/python3.7/dist-packages/IPython/core/interactiveshell.py:2882: DtypeWarning: Columns (10,13,14,15,25,43) have mixed types.Specify dtype option on import or set low_memory=False.\n",
            "  exec(code_obj, self.user_global_ns, self.user_ns)\n"
          ]
        }
      ],
      "source": [
        "# cargar dataframes Version Local\n",
        "'''\n",
        "maindf = pd.read_csv(pathdatos+\"/Diarios_2013-2019.csv\",sep=\";\",decimal=\".\")\n",
        "climadf = pd.read_csv(pathclima +'/CLIMA_2013-2019.csv', delimiter=',', decimal=\".\")\n",
        "'''\n",
        "# cargar dataframes Version Colab en Drive\n",
        "maindf = pd.read_csv(\"/content/drive/MyDrive/IABD_Proyecto/20220515_IABD_PRJ_Dev_MIKEL/Diarios_2013-2019/Diarios_2013-2019.csv\",sep=\";\",decimal=\".\")\n",
        "climadf = pd.read_csv(\"/content/drive/MyDrive/IABD_Proyecto/20220515_IABD_PRJ_Dev_MIKEL/clima/CLIMA_2013-2019.csv\", delimiter=',', decimal=\".\")"
      ]
    },
    {
      "cell_type": "markdown",
      "metadata": {
        "id": "cCHB_WHsu4JV"
      },
      "source": [
        "- Aseguramos que el tipo de datos en campo fecha sea `datetime`\n",
        "- Aseguramos el uso de la puntuación decimal y la conversión de tipos a numérico de todas aquellas observaciones que sean de esa naturaleza"
      ]
    },
    {
      "cell_type": "code",
      "execution_count": 4,
      "metadata": {
        "id": "HOYHcatou4JV"
      },
      "outputs": [],
      "source": [
        "# Convertir la fecha a formato datetime\n",
        "climadf['Fecha'] = pd.to_datetime(climadf['Fecha'], format=\"%d/%m/%y\")\n",
        "columclima = climadf.columns.to_list()\n",
        "borra3 = 'Fecha'\n",
        "borra = 'HoraRacha'\n",
        "columclima = list(filter((borra3).__ne__,columclima))\n",
        "columclima = list(filter((borra).__ne__,columclima))\n",
        "for colcli in columclima:\n",
        "    climadf[colcli] = climadf[colcli].replace(',','.', regex=True)\n",
        "    climadf[colcli] = climadf[colcli].apply(pd.to_numeric)"
      ]
    },
    {
      "cell_type": "markdown",
      "metadata": {
        "id": "mHGP5UrTu4JW"
      },
      "source": [
        "- Eliminamos las columnas cuyo porcentaje de Nan , nulos o similares esta por encima del 90%\n",
        "- Aseguramos que el tipo de datos en campos de texto y fecha sea el que corresponde"
      ]
    },
    {
      "cell_type": "code",
      "execution_count": 5,
      "metadata": {
        "id": "ZTTORoDFu4JX"
      },
      "outputs": [],
      "source": [
        "maindf.drop([ 'BaP','BbFA','BjFA','BkFA','PST', 'UVB','H2S', 'HNM', 'IcdP', 'HCT','HMN', 'FA', 'DahA', 'CH4', 'BaA'] , axis=1, inplace= True)\n",
        "maindf.drop([ 'NH3','C6H6','C7H8','C8H10','As', 'Cd','Ni', 'Pb'] , axis=1, inplace= True)\n",
        "# Convertir las cadenas a formato string\n",
        "maindf['COD_ESTACION'] = maindf['COD_ESTACION'].astype(str)\n",
        "maindf['NOM_ESTACION'] = maindf['NOM_ESTACION'].astype(str)\n",
        "# Convertir la fecha a formato datetime\n",
        "maindf['FECHA'] = pd.to_datetime(maindf['FECHA'], format=\"%d/%m/%y\")"
      ]
    },
    {
      "cell_type": "markdown",
      "metadata": {
        "id": "KE9-Mk6-u4JX"
      },
      "source": [
        "Aseguramos el uso de la puntuación decimal y la conversión de tipos a numérico de todas aquellas observaciones que sean de esa naturaleza"
      ]
    },
    {
      "cell_type": "code",
      "execution_count": 6,
      "metadata": {
        "id": "2bXWQFA8u4JY"
      },
      "outputs": [],
      "source": [
        "columnas = maindf.columns.to_list()\n",
        "borra1 = \"COD_ESTACION\"\n",
        "borra2 = 'NOM_ESTACION'\n",
        "borra3 = 'FECHA'\n",
        "columnas = list(filter((borra1).__ne__,columnas))\n",
        "columnas = list(filter((borra2).__ne__,columnas))\n",
        "columnas = list(filter((borra3).__ne__,columnas))"
      ]
    },
    {
      "cell_type": "code",
      "execution_count": 7,
      "metadata": {
        "id": "42Ta-Sucu4JY"
      },
      "outputs": [],
      "source": [
        "for col in columnas:\n",
        "    maindf[col] = maindf[col].replace(',','.', regex=True)\n",
        "    maindf[col] = maindf[col].apply(pd.to_numeric)"
      ]
    },
    {
      "cell_type": "markdown",
      "metadata": {
        "id": "YsWvkVTnu4JZ"
      },
      "source": [
        "### Fusion de Dataframes de clima y calidad del aire ###\n",
        "- El campo comun es la fecha.\n",
        "- Los datos de las columnas de clima se repetiran en todas las fechas coincidentes del dataframe resultante.\n",
        "- Al tratarse de lecturas de datos climatológicos de toda la ciudad ( dataframe `climadf`), todas las estationes tendrán los mismos datos climáticos , en caso de que originalmente esas observaciones estén vacios en el dataframe `maindf`. "
      ]
    },
    {
      "cell_type": "code",
      "execution_count": 8,
      "metadata": {
        "id": "8kb_8eNVu4JZ"
      },
      "outputs": [],
      "source": [
        "df = pd.merge(left=maindf, right=climadf, how='left', left_on='FECHA', right_on='Fecha')"
      ]
    },
    {
      "cell_type": "markdown",
      "metadata": {
        "id": "pjDVhsbTu4Ja"
      },
      "source": [
        "Eliminamos las filas correspondientes a la estación Valencia Albufera por motivos geograficos ( mediciones fuera del area metropolitana ) y presencia únicamente en algunos años dentro del rango tratado"
      ]
    },
    {
      "cell_type": "code",
      "execution_count": 9,
      "metadata": {
        "id": "aEnDPOO2u4Ja"
      },
      "outputs": [],
      "source": [
        "indexNames = df[ df['COD_ESTACION'] == '46250051' ].index\n",
        "# Delete these row indexes from dataFrame\n",
        "df.drop(indexNames , inplace=True)"
      ]
    },
    {
      "cell_type": "markdown",
      "metadata": {
        "id": "EbRfE_7pu4Ja"
      },
      "source": [
        "En el caso de la temperatura los huecos se rellenarán con la media calculada de las temperaturas máxima y mínima que provienen del dataframe de clima (`climadf`)\n",
        "\n",
        "`Tmedia = df.loc[:,'TempMax':'TempMin'].mean(axis=1)`\n",
        "\n",
        "`df.loc[df['Temp'].isna(),'Temp']=Tmedia`"
      ]
    },
    {
      "cell_type": "markdown",
      "metadata": {
        "id": "JawRcnWZu4Ja"
      },
      "source": [
        "- Eliminamos las columnas repetidas y las que porcentaje de Nan , nulos o similares esta por encima del 80%"
      ]
    },
    {
      "cell_type": "code",
      "execution_count": 10,
      "metadata": {
        "id": "MQD52n9su4Jb"
      },
      "outputs": [],
      "source": [
        "# actualizar columna 'Temp.' con 'TEMP' cuando el campo 'Temp.' no tenga valor\n",
        "Tmedia = df.loc[:,'TempMax':'TempMin'].mean(axis=1)\n",
        "df.loc[df['Temp'].isna(),'Temp']=Tmedia\n",
        "df.loc[df['lluvias'].isna(),'lluvias']=df['Precip']\n",
        "df.loc[df['VelocVent'].isna(),'VelocVent']=df['Veloc']\n",
        "df.loc[df['VelocVentMax'].isna(),'VelocVentMax']=df['RachaMax']\n",
        "df.drop([ 'Precip','Veloc','RachaMax', 'Fecha','HumRel','Pres','RadSol','Ruido','DirecVent'] , axis=1, inplace= True)"
      ]
    },
    {
      "cell_type": "markdown",
      "metadata": {
        "id": "hJQje0MVu4Jb"
      },
      "source": [
        "Esta operación permite una reducción drástica de los porcentajes de valores NaN , nulos o similares.\n",
        "\n",
        "Aumentando así la fiabiliad en los pasos posteriores."
      ]
    },
    {
      "cell_type": "code",
      "execution_count": 11,
      "metadata": {
        "colab": {
          "base_uri": "https://localhost:8080/"
        },
        "id": "t23Ut-nfu4Jb",
        "outputId": "4ebd374c-6644-4631-8ee9-9a876d564fa6"
      },
      "outputs": [
        {
          "output_type": "execute_result",
          "data": {
            "text/plain": [
              "COD_ESTACION     0.000000\n",
              "NOM_ESTACION     0.000000\n",
              "FECHA            0.000000\n",
              "SO2             26.033724\n",
              "CO              62.630222\n",
              "NO              23.617227\n",
              "NO2             23.665557\n",
              "NOx             23.654817\n",
              "O3              22.366019\n",
              "PM10            31.102996\n",
              "PM2.5           42.648480\n",
              "PM1             66.083127\n",
              "DirecVent       67.135646\n",
              "HumRel          80.431747\n",
              "lluvias         85.833960\n",
              "Pres            80.120288\n",
              "RadSol          80.662657\n",
              "Ruido           83.460423\n",
              "Temp            80.104178\n",
              "VelocVent       66.969176\n",
              "VelocVentMax    86.827408\n",
              "dtype: float64"
            ]
          },
          "metadata": {},
          "execution_count": 11
        }
      ],
      "source": [
        "maindf.isnull().sum()/len(maindf)*100"
      ]
    },
    {
      "cell_type": "code",
      "execution_count": 12,
      "metadata": {
        "colab": {
          "base_uri": "https://localhost:8080/"
        },
        "id": "oNTiUMR8u4Jc",
        "outputId": "72e56ee7-5450-4297-ccfe-51a4d5041eb9"
      },
      "outputs": [
        {
          "output_type": "execute_result",
          "data": {
            "text/plain": [
              "COD_ESTACION     0.000000\n",
              "NOM_ESTACION     0.000000\n",
              "FECHA            0.000000\n",
              "SO2             25.524456\n",
              "CO              62.885469\n",
              "NO              23.054171\n",
              "NO2             23.103467\n",
              "NOx             23.092512\n",
              "O3              21.821767\n",
              "PM10            30.245933\n",
              "PM2.5           41.715506\n",
              "PM1             65.405050\n",
              "lluvias          7.377992\n",
              "Temp             6.791915\n",
              "VelocVent        4.973435\n",
              "VelocVentMax     6.939804\n",
              "HoraRacha        7.854522\n",
              "TempMax          8.714466\n",
              "TempMin          8.714466\n",
              "dtype: float64"
            ]
          },
          "metadata": {},
          "execution_count": 12
        }
      ],
      "source": [
        "df.isnull().sum()/len(df)*100"
      ]
    },
    {
      "cell_type": "code",
      "source": [
        "df.describe().transpose()"
      ],
      "metadata": {
        "colab": {
          "base_uri": "https://localhost:8080/",
          "height": 520
        },
        "id": "pCjAAiT85HZ3",
        "outputId": "d21152f3-89b9-4f1e-d302-928a7ea6c5fd"
      },
      "execution_count": 13,
      "outputs": [
        {
          "output_type": "execute_result",
          "data": {
            "text/plain": [
              "                count       mean        std  min   25%   50%   75%    max\n",
              "SO2           13597.0   3.426491   1.488254  0.0   3.0   3.0   4.0   24.0\n",
              "CO             6776.0   0.169569   0.094533  0.0   0.1   0.2   0.2    0.8\n",
              "NO            14048.0  11.976082  14.526361  0.0   3.0   7.0  15.0  152.0\n",
              "NO2           14039.0  28.792649  15.953003  0.0  17.0  26.0  38.0  104.0\n",
              "NOx           14041.0  46.899081  35.978895  0.0  22.0  36.0  60.0  331.0\n",
              "O3            14273.0  50.077209  19.370573  3.0  37.0  52.0  63.0  193.0\n",
              "PM10          12735.0  20.072949  11.898731  1.0  12.0  18.0  25.0  161.0\n",
              "PM2.5         10641.0  12.688385   8.064169  0.0   7.0  11.0  16.0   88.0\n",
              "PM1            6316.0   8.706935   6.455408  0.0   4.0   7.0  11.0   71.0\n",
              "lluvias       16910.0   1.067652   5.908871  0.0   0.0   0.0   0.0  118.0\n",
              "Temp          17017.0  19.075436   5.644874  4.7  14.2  19.0  23.9   62.0\n",
              "VelocVent     17349.0   9.740786   6.990431  0.1   2.0  11.0  14.0   69.0\n",
              "VelocVentMax  16990.0  26.639523  13.394093  0.0  19.0  26.0  33.0  125.0\n",
              "TempMax       16666.0  23.517461   5.429932  9.0  19.0  23.6  28.1   41.7\n",
              "TempMin       16666.0  14.901578   5.890739  1.4   9.8  14.9  20.0   26.7"
            ],
            "text/html": [
              "\n",
              "  <div id=\"df-ff03db7b-bfef-4c0e-bced-1fd23bf01613\">\n",
              "    <div class=\"colab-df-container\">\n",
              "      <div>\n",
              "<style scoped>\n",
              "    .dataframe tbody tr th:only-of-type {\n",
              "        vertical-align: middle;\n",
              "    }\n",
              "\n",
              "    .dataframe tbody tr th {\n",
              "        vertical-align: top;\n",
              "    }\n",
              "\n",
              "    .dataframe thead th {\n",
              "        text-align: right;\n",
              "    }\n",
              "</style>\n",
              "<table border=\"1\" class=\"dataframe\">\n",
              "  <thead>\n",
              "    <tr style=\"text-align: right;\">\n",
              "      <th></th>\n",
              "      <th>count</th>\n",
              "      <th>mean</th>\n",
              "      <th>std</th>\n",
              "      <th>min</th>\n",
              "      <th>25%</th>\n",
              "      <th>50%</th>\n",
              "      <th>75%</th>\n",
              "      <th>max</th>\n",
              "    </tr>\n",
              "  </thead>\n",
              "  <tbody>\n",
              "    <tr>\n",
              "      <th>SO2</th>\n",
              "      <td>13597.0</td>\n",
              "      <td>3.426491</td>\n",
              "      <td>1.488254</td>\n",
              "      <td>0.0</td>\n",
              "      <td>3.0</td>\n",
              "      <td>3.0</td>\n",
              "      <td>4.0</td>\n",
              "      <td>24.0</td>\n",
              "    </tr>\n",
              "    <tr>\n",
              "      <th>CO</th>\n",
              "      <td>6776.0</td>\n",
              "      <td>0.169569</td>\n",
              "      <td>0.094533</td>\n",
              "      <td>0.0</td>\n",
              "      <td>0.1</td>\n",
              "      <td>0.2</td>\n",
              "      <td>0.2</td>\n",
              "      <td>0.8</td>\n",
              "    </tr>\n",
              "    <tr>\n",
              "      <th>NO</th>\n",
              "      <td>14048.0</td>\n",
              "      <td>11.976082</td>\n",
              "      <td>14.526361</td>\n",
              "      <td>0.0</td>\n",
              "      <td>3.0</td>\n",
              "      <td>7.0</td>\n",
              "      <td>15.0</td>\n",
              "      <td>152.0</td>\n",
              "    </tr>\n",
              "    <tr>\n",
              "      <th>NO2</th>\n",
              "      <td>14039.0</td>\n",
              "      <td>28.792649</td>\n",
              "      <td>15.953003</td>\n",
              "      <td>0.0</td>\n",
              "      <td>17.0</td>\n",
              "      <td>26.0</td>\n",
              "      <td>38.0</td>\n",
              "      <td>104.0</td>\n",
              "    </tr>\n",
              "    <tr>\n",
              "      <th>NOx</th>\n",
              "      <td>14041.0</td>\n",
              "      <td>46.899081</td>\n",
              "      <td>35.978895</td>\n",
              "      <td>0.0</td>\n",
              "      <td>22.0</td>\n",
              "      <td>36.0</td>\n",
              "      <td>60.0</td>\n",
              "      <td>331.0</td>\n",
              "    </tr>\n",
              "    <tr>\n",
              "      <th>O3</th>\n",
              "      <td>14273.0</td>\n",
              "      <td>50.077209</td>\n",
              "      <td>19.370573</td>\n",
              "      <td>3.0</td>\n",
              "      <td>37.0</td>\n",
              "      <td>52.0</td>\n",
              "      <td>63.0</td>\n",
              "      <td>193.0</td>\n",
              "    </tr>\n",
              "    <tr>\n",
              "      <th>PM10</th>\n",
              "      <td>12735.0</td>\n",
              "      <td>20.072949</td>\n",
              "      <td>11.898731</td>\n",
              "      <td>1.0</td>\n",
              "      <td>12.0</td>\n",
              "      <td>18.0</td>\n",
              "      <td>25.0</td>\n",
              "      <td>161.0</td>\n",
              "    </tr>\n",
              "    <tr>\n",
              "      <th>PM2.5</th>\n",
              "      <td>10641.0</td>\n",
              "      <td>12.688385</td>\n",
              "      <td>8.064169</td>\n",
              "      <td>0.0</td>\n",
              "      <td>7.0</td>\n",
              "      <td>11.0</td>\n",
              "      <td>16.0</td>\n",
              "      <td>88.0</td>\n",
              "    </tr>\n",
              "    <tr>\n",
              "      <th>PM1</th>\n",
              "      <td>6316.0</td>\n",
              "      <td>8.706935</td>\n",
              "      <td>6.455408</td>\n",
              "      <td>0.0</td>\n",
              "      <td>4.0</td>\n",
              "      <td>7.0</td>\n",
              "      <td>11.0</td>\n",
              "      <td>71.0</td>\n",
              "    </tr>\n",
              "    <tr>\n",
              "      <th>lluvias</th>\n",
              "      <td>16910.0</td>\n",
              "      <td>1.067652</td>\n",
              "      <td>5.908871</td>\n",
              "      <td>0.0</td>\n",
              "      <td>0.0</td>\n",
              "      <td>0.0</td>\n",
              "      <td>0.0</td>\n",
              "      <td>118.0</td>\n",
              "    </tr>\n",
              "    <tr>\n",
              "      <th>Temp</th>\n",
              "      <td>17017.0</td>\n",
              "      <td>19.075436</td>\n",
              "      <td>5.644874</td>\n",
              "      <td>4.7</td>\n",
              "      <td>14.2</td>\n",
              "      <td>19.0</td>\n",
              "      <td>23.9</td>\n",
              "      <td>62.0</td>\n",
              "    </tr>\n",
              "    <tr>\n",
              "      <th>VelocVent</th>\n",
              "      <td>17349.0</td>\n",
              "      <td>9.740786</td>\n",
              "      <td>6.990431</td>\n",
              "      <td>0.1</td>\n",
              "      <td>2.0</td>\n",
              "      <td>11.0</td>\n",
              "      <td>14.0</td>\n",
              "      <td>69.0</td>\n",
              "    </tr>\n",
              "    <tr>\n",
              "      <th>VelocVentMax</th>\n",
              "      <td>16990.0</td>\n",
              "      <td>26.639523</td>\n",
              "      <td>13.394093</td>\n",
              "      <td>0.0</td>\n",
              "      <td>19.0</td>\n",
              "      <td>26.0</td>\n",
              "      <td>33.0</td>\n",
              "      <td>125.0</td>\n",
              "    </tr>\n",
              "    <tr>\n",
              "      <th>TempMax</th>\n",
              "      <td>16666.0</td>\n",
              "      <td>23.517461</td>\n",
              "      <td>5.429932</td>\n",
              "      <td>9.0</td>\n",
              "      <td>19.0</td>\n",
              "      <td>23.6</td>\n",
              "      <td>28.1</td>\n",
              "      <td>41.7</td>\n",
              "    </tr>\n",
              "    <tr>\n",
              "      <th>TempMin</th>\n",
              "      <td>16666.0</td>\n",
              "      <td>14.901578</td>\n",
              "      <td>5.890739</td>\n",
              "      <td>1.4</td>\n",
              "      <td>9.8</td>\n",
              "      <td>14.9</td>\n",
              "      <td>20.0</td>\n",
              "      <td>26.7</td>\n",
              "    </tr>\n",
              "  </tbody>\n",
              "</table>\n",
              "</div>\n",
              "      <button class=\"colab-df-convert\" onclick=\"convertToInteractive('df-ff03db7b-bfef-4c0e-bced-1fd23bf01613')\"\n",
              "              title=\"Convert this dataframe to an interactive table.\"\n",
              "              style=\"display:none;\">\n",
              "        \n",
              "  <svg xmlns=\"http://www.w3.org/2000/svg\" height=\"24px\"viewBox=\"0 0 24 24\"\n",
              "       width=\"24px\">\n",
              "    <path d=\"M0 0h24v24H0V0z\" fill=\"none\"/>\n",
              "    <path d=\"M18.56 5.44l.94 2.06.94-2.06 2.06-.94-2.06-.94-.94-2.06-.94 2.06-2.06.94zm-11 1L8.5 8.5l.94-2.06 2.06-.94-2.06-.94L8.5 2.5l-.94 2.06-2.06.94zm10 10l.94 2.06.94-2.06 2.06-.94-2.06-.94-.94-2.06-.94 2.06-2.06.94z\"/><path d=\"M17.41 7.96l-1.37-1.37c-.4-.4-.92-.59-1.43-.59-.52 0-1.04.2-1.43.59L10.3 9.45l-7.72 7.72c-.78.78-.78 2.05 0 2.83L4 21.41c.39.39.9.59 1.41.59.51 0 1.02-.2 1.41-.59l7.78-7.78 2.81-2.81c.8-.78.8-2.07 0-2.86zM5.41 20L4 18.59l7.72-7.72 1.47 1.35L5.41 20z\"/>\n",
              "  </svg>\n",
              "      </button>\n",
              "      \n",
              "  <style>\n",
              "    .colab-df-container {\n",
              "      display:flex;\n",
              "      flex-wrap:wrap;\n",
              "      gap: 12px;\n",
              "    }\n",
              "\n",
              "    .colab-df-convert {\n",
              "      background-color: #E8F0FE;\n",
              "      border: none;\n",
              "      border-radius: 50%;\n",
              "      cursor: pointer;\n",
              "      display: none;\n",
              "      fill: #1967D2;\n",
              "      height: 32px;\n",
              "      padding: 0 0 0 0;\n",
              "      width: 32px;\n",
              "    }\n",
              "\n",
              "    .colab-df-convert:hover {\n",
              "      background-color: #E2EBFA;\n",
              "      box-shadow: 0px 1px 2px rgba(60, 64, 67, 0.3), 0px 1px 3px 1px rgba(60, 64, 67, 0.15);\n",
              "      fill: #174EA6;\n",
              "    }\n",
              "\n",
              "    [theme=dark] .colab-df-convert {\n",
              "      background-color: #3B4455;\n",
              "      fill: #D2E3FC;\n",
              "    }\n",
              "\n",
              "    [theme=dark] .colab-df-convert:hover {\n",
              "      background-color: #434B5C;\n",
              "      box-shadow: 0px 1px 3px 1px rgba(0, 0, 0, 0.15);\n",
              "      filter: drop-shadow(0px 1px 2px rgba(0, 0, 0, 0.3));\n",
              "      fill: #FFFFFF;\n",
              "    }\n",
              "  </style>\n",
              "\n",
              "      <script>\n",
              "        const buttonEl =\n",
              "          document.querySelector('#df-ff03db7b-bfef-4c0e-bced-1fd23bf01613 button.colab-df-convert');\n",
              "        buttonEl.style.display =\n",
              "          google.colab.kernel.accessAllowed ? 'block' : 'none';\n",
              "\n",
              "        async function convertToInteractive(key) {\n",
              "          const element = document.querySelector('#df-ff03db7b-bfef-4c0e-bced-1fd23bf01613');\n",
              "          const dataTable =\n",
              "            await google.colab.kernel.invokeFunction('convertToInteractive',\n",
              "                                                     [key], {});\n",
              "          if (!dataTable) return;\n",
              "\n",
              "          const docLinkHtml = 'Like what you see? Visit the ' +\n",
              "            '<a target=\"_blank\" href=https://colab.research.google.com/notebooks/data_table.ipynb>data table notebook</a>'\n",
              "            + ' to learn more about interactive tables.';\n",
              "          element.innerHTML = '';\n",
              "          dataTable['output_type'] = 'display_data';\n",
              "          await google.colab.output.renderOutput(dataTable, element);\n",
              "          const docLink = document.createElement('div');\n",
              "          docLink.innerHTML = docLinkHtml;\n",
              "          element.appendChild(docLink);\n",
              "        }\n",
              "      </script>\n",
              "    </div>\n",
              "  </div>\n",
              "  "
            ]
          },
          "metadata": {},
          "execution_count": 13
        }
      ]
    },
    {
      "cell_type": "markdown",
      "metadata": {
        "id": "g9TYhI3uu4Jc"
      },
      "source": [
        "Finalmente guardamos el resultado en un fichero csv para futuras tareas."
      ]
    },
    {
      "cell_type": "code",
      "execution_count": null,
      "metadata": {
        "id": "HWrxI732u4Jc"
      },
      "outputs": [],
      "source": [
        "# Guarda datos en CSV:\n",
        "df.to_csv(pathgraba+'/airWeather_2013-2019.csv', header=True, sep=';', index=False)"
      ]
    }
  ],
  "metadata": {
    "interpreter": {
      "hash": "1367dffcfb3347986e5fe763daa425025b276996efb972366b86e3a6ad60a74d"
    },
    "kernelspec": {
      "display_name": "Python 3.9.7 ('base')",
      "language": "python",
      "name": "python3"
    },
    "language_info": {
      "codemirror_mode": {
        "name": "ipython",
        "version": 3
      },
      "file_extension": ".py",
      "mimetype": "text/x-python",
      "name": "python",
      "nbconvert_exporter": "python",
      "pygments_lexer": "ipython3",
      "version": "3.9.12"
    },
    "orig_nbformat": 4,
    "colab": {
      "name": "DataframeCompletoConMeteorologicos.ipynb",
      "provenance": []
    }
  },
  "nbformat": 4,
  "nbformat_minor": 0
}