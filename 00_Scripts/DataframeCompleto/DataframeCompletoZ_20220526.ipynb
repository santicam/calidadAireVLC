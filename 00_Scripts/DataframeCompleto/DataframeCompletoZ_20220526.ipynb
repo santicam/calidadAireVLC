{
 "cells": [
  {
   "cell_type": "code",
   "execution_count": null,
   "metadata": {},
   "outputs": [],
   "source": [
    "import pandas as pd\n",
    "import numpy as np\n",
    "import os\n",
    "import glob"
   ]
  },
  {
   "cell_type": "code",
   "execution_count": null,
   "metadata": {},
   "outputs": [],
   "source": [
    "#Nombre del directorio de datos\n",
    "PATH_read = \"datos\"\n",
    "PATH_write = \"datoscsv\"\n",
    "pathname = os.path.join(PATH_read)\n",
    "print(pathname)"
   ]
  },
  {
   "cell_type": "code",
   "execution_count": null,
   "metadata": {},
   "outputs": [],
   "source": [
    "# Primero especificamos un patrón del archivo y lo pasamos como parámetro en la función glob\n",
    "files=pathname+ \"/*.csv\"\n",
    "#csv_files = glob.glob('*.csv')\n",
    "csv_files = glob.glob(files)\n",
    "# Mostrar el archivo csv_files, el cual es una lista de nombres\n",
    "print(csv_files)"
   ]
  },
  {
   "cell_type": "code",
   "execution_count": null,
   "metadata": {},
   "outputs": [],
   "source": [
    "list_data = []\n",
    "  \n",
    "# Escribimos un loop que irá a través de cada uno de los nombres de archivo a través de globbing y el resultado final será la lista dataframes\n",
    "for filename in csv_files:\n",
    "    data = pd.read_csv(filename,index_col=None, header=0,sep=\";\")\n",
    "    list_data.append(data)\n",
    "#Para chequear que todo está bien, mostramos la list_data por consola\n",
    "list_data\n",
    " \n",
    "pd.concat(list_data,ignore_index=True)\n",
    "df = pd.concat(list_data,ignore_index=True)\n"
   ]
  },
  {
   "cell_type": "code",
   "execution_count": null,
   "metadata": {},
   "outputs": [],
   "source": [
    "maindf = pd.read_csv(pathname + \"/*.csv\",sep=\";\",decimal=\".\")"
   ]
  },
  {
   "cell_type": "code",
   "execution_count": null,
   "metadata": {},
   "outputs": [],
   "source": [
    "maindf"
   ]
  },
  {
   "cell_type": "code",
   "execution_count": null,
   "metadata": {},
   "outputs": [],
   "source": [
    "maindf.drop([ 'BaP','BbFA','BjFA','BkFA','PST', 'UVB','H2S', 'HNM', 'IcdP', 'HCT','HMN', 'FA', 'DahA', 'CH4', 'BaA'] , axis=1, inplace= True)\n",
    "maindf.drop([ 'NH3','C6H6','C7H8','C8H10','As', 'Cd','Ni', 'Pb'] , axis=1, inplace= True)\n",
    "\n",
    "maindf['COD_ESTACION'] = maindf['COD_ESTACION'].astype(str)\n",
    "maindf['NOM_ESTACION'] = maindf['NOM_ESTACION'].astype(str)\n",
    "# Convertir la fecha a formato datetime\n",
    "maindf['FECHA'] = pd.to_datetime(maindf['FECHA'], format=\"%d/%m/%y\")"
   ]
  },
  {
   "cell_type": "code",
   "execution_count": null,
   "metadata": {},
   "outputs": [],
   "source": [
    "maindf.head()"
   ]
  },
  {
   "cell_type": "code",
   "execution_count": null,
   "metadata": {},
   "outputs": [],
   "source": [
    "maindf.tail()"
   ]
  },
  {
   "cell_type": "code",
   "execution_count": null,
   "metadata": {},
   "outputs": [],
   "source": [
    "columnas = maindf.columns.to_list()\n",
    "borra1 = \"COD_ESTACION\"\n",
    "borra2 = 'NOM_ESTACION'\n",
    "borra3 = 'FECHA'\n",
    "columnas = list(filter((borra1).__ne__,columnas))\n",
    "columnas = list(filter((borra2).__ne__,columnas))\n",
    "columnas = list(filter((borra3).__ne__,columnas))"
   ]
  },
  {
   "cell_type": "code",
   "execution_count": null,
   "metadata": {},
   "outputs": [],
   "source": [
    "for col in columnas:\n",
    "    maindf[col] = maindf[col].replace(',','.', regex=True)\n",
    "    maindf[col] = maindf[col].apply(pd.to_numeric)"
   ]
  },
  {
   "cell_type": "code",
   "execution_count": null,
   "metadata": {},
   "outputs": [],
   "source": [
    "maindf"
   ]
  },
  {
   "cell_type": "code",
   "execution_count": null,
   "metadata": {},
   "outputs": [],
   "source": [
    "maindf.shape"
   ]
  },
  {
   "cell_type": "code",
   "execution_count": null,
   "metadata": {},
   "outputs": [],
   "source": [
    "maindf.dtypes"
   ]
  },
  {
   "cell_type": "code",
   "execution_count": null,
   "metadata": {},
   "outputs": [],
   "source": [
    "maindf.info()"
   ]
  },
  {
   "cell_type": "code",
   "execution_count": null,
   "metadata": {},
   "outputs": [],
   "source": [
    "maindf.describe()"
   ]
  },
  {
   "cell_type": "code",
   "execution_count": null,
   "metadata": {},
   "outputs": [],
   "source": [
    "maindf.isnull().sum()/len(maindf)*100"
   ]
  }
 ],
 "metadata": {
  "interpreter": {
   "hash": "b00aa13431af96271f81de7e6c74dda21679ca55c25a672a9b8c84aa9b0641a0"
  },
  "kernelspec": {
   "display_name": "Python 3.9.7 ('base')",
   "language": "python",
   "name": "python3"
  },
  "language_info": {
   "codemirror_mode": {
    "name": "ipython",
    "version": 3
   },
   "file_extension": ".py",
   "mimetype": "text/x-python",
   "name": "python",
   "nbconvert_exporter": "python",
   "pygments_lexer": "ipython3",
   "version": "3.9.7"
  },
  "orig_nbformat": 4
 },
 "nbformat": 4,
 "nbformat_minor": 2
}
