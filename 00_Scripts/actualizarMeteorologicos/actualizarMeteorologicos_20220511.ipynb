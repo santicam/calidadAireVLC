{
 "cells": [
  {
   "cell_type": "code",
   "execution_count": 5,
   "metadata": {},
   "outputs": [],
   "source": [
    "import pandas as pd "
   ]
  },
  {
   "cell_type": "code",
   "execution_count": 6,
   "metadata": {},
   "outputs": [
    {
     "name": "stdout",
     "output_type": "stream",
     "text": [
      "Valores nulos:\n"
     ]
    },
    {
     "data": {
      "text/plain": [
       "idEstacion     0\n",
       "FECHA          0\n",
       "Temp.         18\n",
       "dtype: int64"
      ]
     },
     "execution_count": 6,
     "metadata": {},
     "output_type": "execute_result"
    }
   ],
   "source": [
    "# cargar dataframes\n",
    "\n",
    "df = pd.read_csv('datos.csv', delimiter=';')\n",
    "temperaturas = pd.read_csv('temperatura.csv', delimiter=';')\n",
    "\n",
    "print('Valores nulos:')\n",
    "df.isnull().sum()"
   ]
  },
  {
   "cell_type": "code",
   "execution_count": 7,
   "metadata": {},
   "outputs": [
    {
     "name": "stdout",
     "output_type": "stream",
     "text": [
      "Valores nulos:\n"
     ]
    },
    {
     "data": {
      "text/plain": [
       "idEstacion    0\n",
       "FECHA         0\n",
       "Temp.         0\n",
       "dtype: int64"
      ]
     },
     "execution_count": 7,
     "metadata": {},
     "output_type": "execute_result"
    }
   ],
   "source": [
    "# añadir columna 'TEMP' en df con las temperaturas del segundo dataFrame segun la fecha\n",
    "df = pd.merge(left=df, right=temperaturas, how='left', left_on='FECHA', right_on='FECHA')\n",
    "\n",
    "# actualizar columna 'Temp.' con 'TEMP' cuando el campo 'Temp.' no tenga valor\n",
    "df.loc[df['Temp.'].isna(),'Temp.']=df['TEMP']\n",
    "\n",
    "# una vez hecha la actualización eliminar la columna que sobra\n",
    "df = df.drop('TEMP', axis=1)\n",
    "\n",
    "print('Valores nulos:')\n",
    "df.isnull().sum()"
   ]
  },
  {
   "cell_type": "code",
   "execution_count": 8,
   "metadata": {},
   "outputs": [
    {
     "data": {
      "text/html": [
       "<div>\n",
       "<style scoped>\n",
       "    .dataframe tbody tr th:only-of-type {\n",
       "        vertical-align: middle;\n",
       "    }\n",
       "\n",
       "    .dataframe tbody tr th {\n",
       "        vertical-align: top;\n",
       "    }\n",
       "\n",
       "    .dataframe thead th {\n",
       "        text-align: right;\n",
       "    }\n",
       "</style>\n",
       "<table border=\"1\" class=\"dataframe\">\n",
       "  <thead>\n",
       "    <tr style=\"text-align: right;\">\n",
       "      <th></th>\n",
       "      <th>idEstacion</th>\n",
       "      <th>FECHA</th>\n",
       "      <th>Temp.</th>\n",
       "    </tr>\n",
       "  </thead>\n",
       "  <tbody>\n",
       "    <tr>\n",
       "      <th>0</th>\n",
       "      <td>46250080</td>\n",
       "      <td>01/05/2022</td>\n",
       "      <td>16.0</td>\n",
       "    </tr>\n",
       "    <tr>\n",
       "      <th>1</th>\n",
       "      <td>46250080</td>\n",
       "      <td>02/05/2022</td>\n",
       "      <td>24.0</td>\n",
       "    </tr>\n",
       "    <tr>\n",
       "      <th>2</th>\n",
       "      <td>46250080</td>\n",
       "      <td>03/05/2022</td>\n",
       "      <td>27.0</td>\n",
       "    </tr>\n",
       "    <tr>\n",
       "      <th>3</th>\n",
       "      <td>46250080</td>\n",
       "      <td>04/05/2022</td>\n",
       "      <td>20.0</td>\n",
       "    </tr>\n",
       "    <tr>\n",
       "      <th>4</th>\n",
       "      <td>46250080</td>\n",
       "      <td>05/05/2022</td>\n",
       "      <td>25.0</td>\n",
       "    </tr>\n",
       "    <tr>\n",
       "      <th>...</th>\n",
       "      <td>...</td>\n",
       "      <td>...</td>\n",
       "      <td>...</td>\n",
       "    </tr>\n",
       "    <tr>\n",
       "      <th>57</th>\n",
       "      <td>46250080</td>\n",
       "      <td>27/05/2022</td>\n",
       "      <td>22.0</td>\n",
       "    </tr>\n",
       "    <tr>\n",
       "      <th>58</th>\n",
       "      <td>46250080</td>\n",
       "      <td>28/05/2022</td>\n",
       "      <td>30.0</td>\n",
       "    </tr>\n",
       "    <tr>\n",
       "      <th>59</th>\n",
       "      <td>46250080</td>\n",
       "      <td>29/05/2022</td>\n",
       "      <td>24.0</td>\n",
       "    </tr>\n",
       "    <tr>\n",
       "      <th>60</th>\n",
       "      <td>46250080</td>\n",
       "      <td>30/05/2022</td>\n",
       "      <td>29.0</td>\n",
       "    </tr>\n",
       "    <tr>\n",
       "      <th>61</th>\n",
       "      <td>46250080</td>\n",
       "      <td>31/05/2022</td>\n",
       "      <td>25.0</td>\n",
       "    </tr>\n",
       "  </tbody>\n",
       "</table>\n",
       "<p>62 rows × 3 columns</p>\n",
       "</div>"
      ],
      "text/plain": [
       "    idEstacion       FECHA  Temp.\n",
       "0     46250080  01/05/2022   16.0\n",
       "1     46250080  02/05/2022   24.0\n",
       "2     46250080  03/05/2022   27.0\n",
       "3     46250080  04/05/2022   20.0\n",
       "4     46250080  05/05/2022   25.0\n",
       "..         ...         ...    ...\n",
       "57    46250080  27/05/2022   22.0\n",
       "58    46250080  28/05/2022   30.0\n",
       "59    46250080  29/05/2022   24.0\n",
       "60    46250080  30/05/2022   29.0\n",
       "61    46250080  31/05/2022   25.0\n",
       "\n",
       "[62 rows x 3 columns]"
      ]
     },
     "execution_count": 8,
     "metadata": {},
     "output_type": "execute_result"
    }
   ],
   "source": [
    "df"
   ]
  }
 ],
 "metadata": {
  "interpreter": {
   "hash": "997767116ae04da281f657ba1ef80941fde8037360d002d2f6ec7e11d1f836d2"
  },
  "kernelspec": {
   "display_name": "Python 3.8.8 ('base')",
   "language": "python",
   "name": "python3"
  },
  "language_info": {
   "codemirror_mode": {
    "name": "ipython",
    "version": 3
   },
   "file_extension": ".py",
   "mimetype": "text/x-python",
   "name": "python",
   "nbconvert_exporter": "python",
   "pygments_lexer": "ipython3",
   "version": "3.8.8"
  },
  "orig_nbformat": 4
 },
 "nbformat": 4,
 "nbformat_minor": 2
}
