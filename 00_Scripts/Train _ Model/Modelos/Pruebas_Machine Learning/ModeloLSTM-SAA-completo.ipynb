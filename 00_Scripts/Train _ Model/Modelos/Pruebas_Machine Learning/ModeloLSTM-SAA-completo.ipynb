{
  "cells": [
    {
      "cell_type": "code",
      "execution_count": 110,
      "metadata": {},
      "outputs": [
        {
          "name": "stdout",
          "output_type": "stream",
          "text": [
            "Requirement already satisfied: plotly in c:\\users\\santiago\\anaconda3\\lib\\site-packages (5.8.0)\n",
            "Requirement already satisfied: tenacity>=6.2.0 in c:\\users\\santiago\\anaconda3\\lib\\site-packages (from plotly) (8.0.1)\n"
          ]
        }
      ],
      "source": [
        "!pip install plotly"
      ]
    },
    {
      "cell_type": "code",
      "execution_count": 111,
      "metadata": {
        "id": "c8qUlIpcgvE0"
      },
      "outputs": [],
      "source": [
        "# librerías necesarias\n",
        "\n",
        "import pandas as pd\n",
        "import numpy as np\n",
        "import plotly \n",
        "import plotly.express as px\n",
        "import matplotlib.pyplot as plt\n",
        "import tensorflow as tf\n",
        "\n",
        "from keras.wrappers.scikit_learn import KerasClassifier\n",
        "from keras.models import Sequential\n",
        "from keras.layers import Input, Dense, LSTM, Dropout\n",
        "from sklearn.preprocessing import MinMaxScaler\n",
        "from sklearn.model_selection import GridSearchCV\n",
        "\n",
        "np.random.seed(4)"
      ]
    },
    {
      "cell_type": "code",
      "execution_count": 112,
      "metadata": {
        "colab": {
          "base_uri": "https://localhost:8080/"
        },
        "id": "fmWZ6RXHj2a9",
        "outputId": "bd32f72f-a0b6-479f-f354-f24fe1b9c624"
      },
      "outputs": [
        {
          "data": {
            "text/plain": [
              "array(['VALÈNCIA  PISTA DE SILLA', 'VALÈNCIA  VIVERS',\n",
              "       'VALÈNCIA  POLITÈCNIC', 'VALÈNCIA  AVD. FRANCIA',\n",
              "       'VALÈNCIA  MOLÍ DEL SOL', 'VALÈNCIACONSELLERIA METEO.',\n",
              "       'VALÈNCIA  BULEVARD SUD', 'VALÈNCIA CENTRE'], dtype=object)"
            ]
          },
          "execution_count": 112,
          "metadata": {},
          "output_type": "execute_result"
        }
      ],
      "source": [
        "\n",
        "df = pd.read_csv('airWeather_2013-2019.csv', sep=';', index_col='FECHA', parse_dates=['FECHA'])\n",
        "df.NOM_ESTACION.unique()"
      ]
    },
    {
      "cell_type": "code",
      "execution_count": 113,
      "metadata": {
        "colab": {
          "base_uri": "https://localhost:8080/"
        },
        "id": "GsEl_Ff03ALw",
        "outputId": "e37c4dba-322d-4c93-df2d-e146963d944e"
      },
      "outputs": [
        {
          "data": {
            "text/plain": [
              "COD_ESTACION        0\n",
              "NOM_ESTACION        0\n",
              "SO2              4660\n",
              "CO              11481\n",
              "NO               4209\n",
              "NO2              4218\n",
              "NOx              4216\n",
              "O3               3984\n",
              "PM10             5522\n",
              "PM2.5            7616\n",
              "PM1             11941\n",
              "lluvias          1347\n",
              "Temp             1240\n",
              "VelocVent         908\n",
              "VelocVentMax     1267\n",
              "HoraRacha        1434\n",
              "TempMax          1591\n",
              "TempMin          1591\n",
              "dtype: int64"
            ]
          },
          "execution_count": 113,
          "metadata": {},
          "output_type": "execute_result"
        }
      ],
      "source": [
        "df.isnull().sum()"
      ]
    },
    {
      "cell_type": "code",
      "execution_count": null,
      "metadata": {},
      "outputs": [],
      "source": [
        "# eliminar filas sin Temp\n",
        "\n",
        "df = df[df['Temp'].notnull()]"
      ]
    },
    {
      "cell_type": "code",
      "execution_count": 114,
      "metadata": {},
      "outputs": [
        {
          "data": {
            "text/plain": [
              "array(['VALÈNCIA  PISTA DE SILLA'], dtype=object)"
            ]
          },
          "execution_count": 114,
          "metadata": {},
          "output_type": "execute_result"
        }
      ],
      "source": [
        "df = df[df['NOM_ESTACION']=='VALÈNCIA  PISTA DE SILLA']\n",
        "df.NOM_ESTACION.unique()"
      ]
    },
    {
      "cell_type": "code",
      "execution_count": 115,
      "metadata": {},
      "outputs": [
        {
          "data": {
            "text/plain": [
              "COD_ESTACION      0\n",
              "NOM_ESTACION      0\n",
              "SO2             264\n",
              "CO              277\n",
              "NO              139\n",
              "NO2             139\n",
              "NOx             139\n",
              "O3              156\n",
              "PM10             71\n",
              "PM2.5           436\n",
              "PM1             805\n",
              "lluvias         213\n",
              "Temp             55\n",
              "VelocVent        38\n",
              "VelocVentMax    199\n",
              "HoraRacha       199\n",
              "TempMax         218\n",
              "TempMin         218\n",
              "dtype: int64"
            ]
          },
          "execution_count": 115,
          "metadata": {},
          "output_type": "execute_result"
        }
      ],
      "source": [
        "df.isnull().sum()"
      ]
    },
    {
      "cell_type": "code",
      "execution_count": 116,
      "metadata": {
        "colab": {
          "base_uri": "https://localhost:8080/"
        },
        "id": "Ajd-cmiI3AJa",
        "outputId": "cd33001f-b8fb-4ffd-d881-be1972c90c12"
      },
      "outputs": [
        {
          "data": {
            "text/plain": [
              "'# Hay una fila con nulos\\ndf = df.dropna()\\ndf.isnull().sum()'"
            ]
          },
          "execution_count": 116,
          "metadata": {},
          "output_type": "execute_result"
        }
      ],
      "source": [
        "\"\"\"# Hay una fila con nulos\n",
        "df = df.dropna()\n",
        "df.isnull().sum()\"\"\""
      ]
    },
    {
      "cell_type": "code",
      "execution_count": 117,
      "metadata": {
        "colab": {
          "base_uri": "https://localhost:8080/",
          "height": 238
        },
        "id": "wVQj41QDpbwV",
        "outputId": "c5643d91-ce50-4f4f-9851-484186caa18d"
      },
      "outputs": [
        {
          "data": {
            "text/html": [
              "<div>\n",
              "<style scoped>\n",
              "    .dataframe tbody tr th:only-of-type {\n",
              "        vertical-align: middle;\n",
              "    }\n",
              "\n",
              "    .dataframe tbody tr th {\n",
              "        vertical-align: top;\n",
              "    }\n",
              "\n",
              "    .dataframe thead th {\n",
              "        text-align: right;\n",
              "    }\n",
              "</style>\n",
              "<table border=\"1\" class=\"dataframe\">\n",
              "  <thead>\n",
              "    <tr style=\"text-align: right;\">\n",
              "      <th></th>\n",
              "      <th>COD_ESTACION</th>\n",
              "      <th>NOM_ESTACION</th>\n",
              "      <th>SO2</th>\n",
              "      <th>CO</th>\n",
              "      <th>NO</th>\n",
              "      <th>NO2</th>\n",
              "      <th>NOx</th>\n",
              "      <th>O3</th>\n",
              "      <th>PM10</th>\n",
              "      <th>PM2.5</th>\n",
              "      <th>PM1</th>\n",
              "      <th>lluvias</th>\n",
              "      <th>Temp</th>\n",
              "      <th>VelocVent</th>\n",
              "      <th>VelocVentMax</th>\n",
              "      <th>HoraRacha</th>\n",
              "      <th>TempMax</th>\n",
              "      <th>TempMin</th>\n",
              "    </tr>\n",
              "    <tr>\n",
              "      <th>FECHA</th>\n",
              "      <th></th>\n",
              "      <th></th>\n",
              "      <th></th>\n",
              "      <th></th>\n",
              "      <th></th>\n",
              "      <th></th>\n",
              "      <th></th>\n",
              "      <th></th>\n",
              "      <th></th>\n",
              "      <th></th>\n",
              "      <th></th>\n",
              "      <th></th>\n",
              "      <th></th>\n",
              "      <th></th>\n",
              "      <th></th>\n",
              "      <th></th>\n",
              "      <th></th>\n",
              "      <th></th>\n",
              "    </tr>\n",
              "  </thead>\n",
              "  <tbody>\n",
              "    <tr>\n",
              "      <th>2013-01-01</th>\n",
              "      <td>46250030</td>\n",
              "      <td>VALÈNCIA  PISTA DE SILLA</td>\n",
              "      <td>NaN</td>\n",
              "      <td>NaN</td>\n",
              "      <td>NaN</td>\n",
              "      <td>NaN</td>\n",
              "      <td>NaN</td>\n",
              "      <td>41.0</td>\n",
              "      <td>11.0</td>\n",
              "      <td>NaN</td>\n",
              "      <td>NaN</td>\n",
              "      <td>NaN</td>\n",
              "      <td>12.8</td>\n",
              "      <td>0.6</td>\n",
              "      <td>NaN</td>\n",
              "      <td>NaN</td>\n",
              "      <td>NaN</td>\n",
              "      <td>NaN</td>\n",
              "    </tr>\n",
              "    <tr>\n",
              "      <th>2013-01-02</th>\n",
              "      <td>46250030</td>\n",
              "      <td>VALÈNCIA  PISTA DE SILLA</td>\n",
              "      <td>NaN</td>\n",
              "      <td>NaN</td>\n",
              "      <td>NaN</td>\n",
              "      <td>NaN</td>\n",
              "      <td>NaN</td>\n",
              "      <td>21.0</td>\n",
              "      <td>26.0</td>\n",
              "      <td>NaN</td>\n",
              "      <td>NaN</td>\n",
              "      <td>NaN</td>\n",
              "      <td>11.4</td>\n",
              "      <td>0.3</td>\n",
              "      <td>NaN</td>\n",
              "      <td>NaN</td>\n",
              "      <td>NaN</td>\n",
              "      <td>NaN</td>\n",
              "    </tr>\n",
              "    <tr>\n",
              "      <th>2013-01-03</th>\n",
              "      <td>46250030</td>\n",
              "      <td>VALÈNCIA  PISTA DE SILLA</td>\n",
              "      <td>NaN</td>\n",
              "      <td>NaN</td>\n",
              "      <td>NaN</td>\n",
              "      <td>NaN</td>\n",
              "      <td>NaN</td>\n",
              "      <td>25.0</td>\n",
              "      <td>22.0</td>\n",
              "      <td>NaN</td>\n",
              "      <td>NaN</td>\n",
              "      <td>NaN</td>\n",
              "      <td>10.6</td>\n",
              "      <td>0.3</td>\n",
              "      <td>NaN</td>\n",
              "      <td>NaN</td>\n",
              "      <td>NaN</td>\n",
              "      <td>NaN</td>\n",
              "    </tr>\n",
              "    <tr>\n",
              "      <th>2013-01-04</th>\n",
              "      <td>46250030</td>\n",
              "      <td>VALÈNCIA  PISTA DE SILLA</td>\n",
              "      <td>NaN</td>\n",
              "      <td>NaN</td>\n",
              "      <td>NaN</td>\n",
              "      <td>NaN</td>\n",
              "      <td>NaN</td>\n",
              "      <td>21.0</td>\n",
              "      <td>28.0</td>\n",
              "      <td>NaN</td>\n",
              "      <td>NaN</td>\n",
              "      <td>NaN</td>\n",
              "      <td>11.7</td>\n",
              "      <td>0.2</td>\n",
              "      <td>NaN</td>\n",
              "      <td>NaN</td>\n",
              "      <td>NaN</td>\n",
              "      <td>NaN</td>\n",
              "    </tr>\n",
              "    <tr>\n",
              "      <th>2013-01-05</th>\n",
              "      <td>46250030</td>\n",
              "      <td>VALÈNCIA  PISTA DE SILLA</td>\n",
              "      <td>NaN</td>\n",
              "      <td>NaN</td>\n",
              "      <td>NaN</td>\n",
              "      <td>NaN</td>\n",
              "      <td>NaN</td>\n",
              "      <td>17.0</td>\n",
              "      <td>28.0</td>\n",
              "      <td>NaN</td>\n",
              "      <td>NaN</td>\n",
              "      <td>NaN</td>\n",
              "      <td>13.6</td>\n",
              "      <td>0.3</td>\n",
              "      <td>NaN</td>\n",
              "      <td>NaN</td>\n",
              "      <td>NaN</td>\n",
              "      <td>NaN</td>\n",
              "    </tr>\n",
              "  </tbody>\n",
              "</table>\n",
              "</div>"
            ],
            "text/plain": [
              "            COD_ESTACION              NOM_ESTACION  SO2  CO  NO  NO2  NOx  \\\n",
              "FECHA                                                                       \n",
              "2013-01-01      46250030  VALÈNCIA  PISTA DE SILLA  NaN NaN NaN  NaN  NaN   \n",
              "2013-01-02      46250030  VALÈNCIA  PISTA DE SILLA  NaN NaN NaN  NaN  NaN   \n",
              "2013-01-03      46250030  VALÈNCIA  PISTA DE SILLA  NaN NaN NaN  NaN  NaN   \n",
              "2013-01-04      46250030  VALÈNCIA  PISTA DE SILLA  NaN NaN NaN  NaN  NaN   \n",
              "2013-01-05      46250030  VALÈNCIA  PISTA DE SILLA  NaN NaN NaN  NaN  NaN   \n",
              "\n",
              "              O3  PM10  PM2.5  PM1  lluvias  Temp  VelocVent  VelocVentMax  \\\n",
              "FECHA                                                                        \n",
              "2013-01-01  41.0  11.0    NaN  NaN      NaN  12.8        0.6           NaN   \n",
              "2013-01-02  21.0  26.0    NaN  NaN      NaN  11.4        0.3           NaN   \n",
              "2013-01-03  25.0  22.0    NaN  NaN      NaN  10.6        0.3           NaN   \n",
              "2013-01-04  21.0  28.0    NaN  NaN      NaN  11.7        0.2           NaN   \n",
              "2013-01-05  17.0  28.0    NaN  NaN      NaN  13.6        0.3           NaN   \n",
              "\n",
              "           HoraRacha  TempMax  TempMin  \n",
              "FECHA                                   \n",
              "2013-01-01       NaN      NaN      NaN  \n",
              "2013-01-02       NaN      NaN      NaN  \n",
              "2013-01-03       NaN      NaN      NaN  \n",
              "2013-01-04       NaN      NaN      NaN  \n",
              "2013-01-05       NaN      NaN      NaN  "
            ]
          },
          "execution_count": 117,
          "metadata": {},
          "output_type": "execute_result"
        }
      ],
      "source": [
        "df.head()"
      ]
    },
    {
      "cell_type": "code",
      "execution_count": 118,
      "metadata": {},
      "outputs": [
        {
          "name": "stderr",
          "output_type": "stream",
          "text": [
            "<ipython-input-118-34c5cb103375>:5: SettingWithCopyWarning: \n",
            "A value is trying to be set on a copy of a slice from a DataFrame.\n",
            "Try using .loc[row_indexer,col_indexer] = value instead\n",
            "\n",
            "See the caveats in the documentation: https://pandas.pydata.org/pandas-docs/stable/user_guide/indexing.html#returning-a-view-versus-a-copy\n",
            "  df2['TempNextDay'] = df3['Temp']\n"
          ]
        },
        {
          "data": {
            "text/html": [
              "<div>\n",
              "<style scoped>\n",
              "    .dataframe tbody tr th:only-of-type {\n",
              "        vertical-align: middle;\n",
              "    }\n",
              "\n",
              "    .dataframe tbody tr th {\n",
              "        vertical-align: top;\n",
              "    }\n",
              "\n",
              "    .dataframe thead th {\n",
              "        text-align: right;\n",
              "    }\n",
              "</style>\n",
              "<table border=\"1\" class=\"dataframe\">\n",
              "  <thead>\n",
              "    <tr style=\"text-align: right;\">\n",
              "      <th></th>\n",
              "      <th>Temp</th>\n",
              "      <th>TempNextDay</th>\n",
              "    </tr>\n",
              "    <tr>\n",
              "      <th>FECHA</th>\n",
              "      <th></th>\n",
              "      <th></th>\n",
              "    </tr>\n",
              "  </thead>\n",
              "  <tbody>\n",
              "    <tr>\n",
              "      <th>2013-01-01</th>\n",
              "      <td>12.80</td>\n",
              "      <td>11.40</td>\n",
              "    </tr>\n",
              "    <tr>\n",
              "      <th>2013-01-02</th>\n",
              "      <td>11.40</td>\n",
              "      <td>10.60</td>\n",
              "    </tr>\n",
              "    <tr>\n",
              "      <th>2013-01-03</th>\n",
              "      <td>10.60</td>\n",
              "      <td>11.70</td>\n",
              "    </tr>\n",
              "    <tr>\n",
              "      <th>2013-01-04</th>\n",
              "      <td>11.70</td>\n",
              "      <td>13.60</td>\n",
              "    </tr>\n",
              "    <tr>\n",
              "      <th>2013-01-05</th>\n",
              "      <td>13.60</td>\n",
              "      <td>13.10</td>\n",
              "    </tr>\n",
              "    <tr>\n",
              "      <th>...</th>\n",
              "      <td>...</td>\n",
              "      <td>...</td>\n",
              "    </tr>\n",
              "    <tr>\n",
              "      <th>2019-12-24</th>\n",
              "      <td>17.80</td>\n",
              "      <td>15.95</td>\n",
              "    </tr>\n",
              "    <tr>\n",
              "      <th>2019-12-25</th>\n",
              "      <td>15.95</td>\n",
              "      <td>16.75</td>\n",
              "    </tr>\n",
              "    <tr>\n",
              "      <th>2019-12-26</th>\n",
              "      <td>16.75</td>\n",
              "      <td>13.55</td>\n",
              "    </tr>\n",
              "    <tr>\n",
              "      <th>2019-12-27</th>\n",
              "      <td>13.55</td>\n",
              "      <td>10.55</td>\n",
              "    </tr>\n",
              "    <tr>\n",
              "      <th>2019-12-28</th>\n",
              "      <td>10.55</td>\n",
              "      <td>11.75</td>\n",
              "    </tr>\n",
              "  </tbody>\n",
              "</table>\n",
              "<p>2114 rows × 2 columns</p>\n",
              "</div>"
            ],
            "text/plain": [
              "             Temp  TempNextDay\n",
              "FECHA                         \n",
              "2013-01-01  12.80        11.40\n",
              "2013-01-02  11.40        10.60\n",
              "2013-01-03  10.60        11.70\n",
              "2013-01-04  11.70        13.60\n",
              "2013-01-05  13.60        13.10\n",
              "...           ...          ...\n",
              "2019-12-24  17.80        15.95\n",
              "2019-12-25  15.95        16.75\n",
              "2019-12-26  16.75        13.55\n",
              "2019-12-27  13.55        10.55\n",
              "2019-12-28  10.55        11.75\n",
              "\n",
              "[2114 rows x 2 columns]"
            ]
          },
          "execution_count": 118,
          "metadata": {},
          "output_type": "execute_result"
        }
      ],
      "source": [
        "# Guardamos la temperatura y la del día siguiente\n",
        "df2 = df[['Temp']]\n",
        "df3 = df2\n",
        "df3=df3.shift(periods=-1)\n",
        "df2['TempNextDay'] = df3['Temp']\n",
        "df2 = df2.dropna()\n",
        "df2"
      ]
    },
    {
      "cell_type": "code",
      "execution_count": 119,
      "metadata": {
        "colab": {
          "base_uri": "https://localhost:8080/",
          "height": 455
        },
        "id": "DUQDnmleoNgO",
        "outputId": "624daedb-eb28-4659-aa03-fd45e7c05780"
      },
      "outputs": [
        {
          "data": {
            "text/plain": [
              "\"# Predecir el nivel de contaminación para el día siguiente a uno dado\\n# dependerá de la variable tiempo (serie temporal)\\n\\n\\n# Nos crearemos un DataFrame con la fecha, el precio máximo para esa fecha y el precio máximo del dia siguiente\\ndf2 = df.drop(['Open', 'Low', 'Close', 'Adj Close', 'Volume'], axis=1)\\ndf3 = df2\\ndf3=df3.shift(periods=-1)\\ndf2['HighNextDay'] = df3['High']\\ndf2 = df2.dropna()\\ndf2\""
            ]
          },
          "execution_count": 119,
          "metadata": {},
          "output_type": "execute_result"
        }
      ],
      "source": [
        "\"\"\"# Predecir el nivel de contaminación para el día siguiente a uno dado\n",
        "# dependerá de la variable tiempo (serie temporal)\n",
        "\n",
        "\n",
        "# Nos crearemos un DataFrame con la fecha, el precio máximo para esa fecha y el precio máximo del dia siguiente\n",
        "df2 = df.drop(['Open', 'Low', 'Close', 'Adj Close', 'Volume'], axis=1)\n",
        "df3 = df2\n",
        "df3=df3.shift(periods=-1)\n",
        "df2['HighNextDay'] = df3['High']\n",
        "df2 = df2.dropna()\n",
        "df2\"\"\""
      ]
    },
    {
      "cell_type": "code",
      "execution_count": null,
      "metadata": {},
      "outputs": [],
      "source": []
    },
    {
      "cell_type": "code",
      "execution_count": 120,
      "metadata": {
        "id": "sHKUv3l4tePk"
      },
      "outputs": [],
      "source": [
        "# Vamos a coger del 2013 al 2017 para entrenamiento y los datos del 2018 para testear\n",
        "train = df2[:'2017'].iloc[:,:]\n",
        "test = df2['2017':'2018'].iloc[:,:]"
      ]
    },
    {
      "cell_type": "code",
      "execution_count": 121,
      "metadata": {
        "colab": {
          "base_uri": "https://localhost:8080/",
          "height": 286
        },
        "id": "icQ0ec-AsHIp",
        "outputId": "7b5982be-21d5-4300-c0ce-ce5a8ecc1288"
      },
      "outputs": [
        {
          "data": {
            "text/plain": [
              "<function matplotlib.pyplot.show(close=None, block=None)>"
            ]
          },
          "execution_count": 121,
          "metadata": {},
          "output_type": "execute_result"
        },
        {
          "data": {
            "image/png": "[encoded data removed]",
            "text/plain": [
              "<Figure size 432x288 with 1 Axes>"
            ]
          },
          "metadata": {
            "needs_background": "light"
          },
          "output_type": "display_data"
        }
      ],
      "source": [
        "train['Temp'].plot(legend=True)\n",
        "test['Temp'].plot(legend=True)\n",
        "plt.legend(['Train (2013-2016)', 'Test (2017)'])\n",
        "plt.show"
      ]
    },
    {
      "cell_type": "markdown",
      "metadata": {
        "id": "7kq8fjK5CcgM"
      },
      "source": [
        "## **Normalización**"
      ]
    },
    {
      "cell_type": "code",
      "execution_count": 122,
      "metadata": {
        "id": "69VRo_bwCiL0"
      },
      "outputs": [],
      "source": [
        "sc = MinMaxScaler(feature_range=(0,1))\n",
        "\n",
        "X_train = sc.fit_transform(train['Temp'].values.reshape(-1,1))\n",
        "y_train = sc.fit_transform(train['TempNextDay'].values.reshape(-1,1))"
      ]
    },
    {
      "cell_type": "markdown",
      "metadata": {
        "id": "OKxG3M4Ow4rz"
      },
      "source": [
        "## **Modelo**"
      ]
    },
    {
      "cell_type": "code",
      "execution_count": 123,
      "metadata": {
        "colab": {
          "base_uri": "https://localhost:8080/"
        },
        "id": "GsDUbOoIq5A3",
        "outputId": "56fcb4bc-b4db-4c77-d05e-5d43ca3f2b72"
      },
      "outputs": [
        {
          "name": "stdout",
          "output_type": "stream",
          "text": [
            "Epoch 1/3\n",
            "180/180 [==============================] - 0s 742us/step - loss: 0.7633\n",
            "Epoch 2/3\n",
            "180/180 [==============================] - 0s 807us/step - loss: 0.7244\n",
            "Epoch 3/3\n",
            "180/180 [==============================] - 0s 776us/step - loss: 0.7149\n",
            "\n",
            "-------------------- Model Summary --------------------\n",
            "Model: \"Model-with-One-Input\"\n",
            "_________________________________________________________________\n",
            " Layer (type)                Output Shape              Param #   \n",
            "=================================================================\n",
            " Hidden-Layer (Dense)        (None, 2)                 4         \n",
            "                                                                 \n",
            " Output-Layer (Dense)        (None, 1)                 3         \n",
            "                                                                 \n",
            "=================================================================\n",
            "Total params: 7\n",
            "Trainable params: 7\n",
            "Non-trainable params: 0\n",
            "_________________________________________________________________\n",
            "\n",
            "-------------------- Weights and Biases --------------------\n",
            "Layer:  Hidden-Layer\n",
            "  --Kernels (Weights):  [[ 0.46766278 -0.7738196 ]]\n",
            "  --Biases:  [-0.23352157  0.16261232]\n",
            "Layer:  Output-Layer\n",
            "  --Kernels (Weights):  [[-0.83128005]\n",
            " [ 0.59988445]]\n",
            "  --Biases:  [0.22831488]\n"
          ]
        }
      ],
      "source": [
        "# Specify the structure of a Neural Network\n",
        "model = Sequential(name=\"Model-with-One-Input\") \n",
        "model.add(Input(shape=(1,), name='Input-Layer'))\n",
        "model.add(Dense(2, activation='softplus', name='Hidden-Layer')) # Hidden Layer, softplus(x) = log(exp(x) + 1)\n",
        "model.add(Dense(1, activation='sigmoid', name='Output-Layer')) # Output Layer, sigmoid(x) = 1 / (1 + exp(-x))\n",
        "\n",
        "\n",
        "# Compile keras model\n",
        "model.compile(optimizer='adam', loss='binary_crossentropy')\n",
        "\n",
        "\n",
        "# Fit keras model on the dataset\n",
        "model.fit(X_train, y_train, batch_size=10, epochs=3)\n",
        "\n",
        "# Model Performance Summary\n",
        "print(\"\")\n",
        "print('-------------------- Model Summary --------------------')\n",
        "model.summary()\n",
        "print(\"\")\n",
        "print('-------------------- Weights and Biases --------------------')\n",
        "for layer in model.layers:\n",
        "    print(\"Layer: \", layer.name) # print layer name\n",
        "    print(\"  --Kernels (Weights): \", layer.get_weights()[0]) # weights\n",
        "    print(\"  --Biases: \", layer.get_weights()[1]) # biases"
      ]
    },
    {
      "cell_type": "markdown",
      "metadata": {
        "id": "60G4qHbWxT74"
      },
      "source": [
        "## **Predicción**"
      ]
    },
    {
      "cell_type": "code",
      "execution_count": 124,
      "metadata": {
        "id": "3n4JPjj5yziB"
      },
      "outputs": [],
      "source": [
        "X_test = sc.fit_transform(test['Temp'].values.reshape(-1,1))\n",
        "y_test = sc.fit_transform(test['TempNextDay'].values.reshape(-1,1))\n",
        "\n",
        "# Realizamos la prediccion y aplicamos normalización inversa para que esté en escala real\n",
        "y_predicted = model.predict(X_test)\n",
        "y_predicted = sc.inverse_transform(y_predicted)\n"
      ]
    },
    {
      "cell_type": "markdown",
      "metadata": {
        "id": "R-u2SmgQD3Z1"
      },
      "source": [
        "## **Visualizar resultados**"
      ]
    },
    {
      "cell_type": "code",
      "execution_count": 125,
      "metadata": {
        "colab": {
          "base_uri": "https://localhost:8080/",
          "height": 383
        },
        "id": "cH4DuRw7yuLF",
        "outputId": "181f331b-1a95-4119-dd88-2049b16eab55"
      },
      "outputs": [
        {
          "name": "stderr",
          "output_type": "stream",
          "text": [
            "<ipython-input-125-6c03a7aaed1e>:1: SettingWithCopyWarning: \n",
            "A value is trying to be set on a copy of a slice from a DataFrame.\n",
            "Try using .loc[row_indexer,col_indexer] = value instead\n",
            "\n",
            "See the caveats in the documentation: https://pandas.pydata.org/pandas-docs/stable/user_guide/indexing.html#returning-a-view-versus-a-copy\n",
            "  test['TempPredicted'] = y_predicted\n"
          ]
        },
        {
          "data": {
            "image/png": "[encoded data removed]",
            "text/plain": [
              "<Figure size 432x288 with 1 Axes>"
            ]
          },
          "metadata": {
            "needs_background": "light"
          },
          "output_type": "display_data"
        }
      ],
      "source": [
        "test['TempPredicted'] = y_predicted\n",
        "plt.plot(train['Temp'], color='green')\n",
        "plt.plot(test['Temp'], color='red', label='Valor real de Temp')\n",
        "plt.plot(test['TempPredicted'], color='blue', label='Predicción de Temp')\n",
        "plt.xlabel('Tiempo')\n",
        "plt.ylabel('Temp')\n",
        "plt.legend()\n",
        "plt.show()"
      ]
    },
    {
      "cell_type": "code",
      "execution_count": 126,
      "metadata": {
        "id": "ySVC6zpDGyq5"
      },
      "outputs": [
        {
          "name": "stderr",
          "output_type": "stream",
          "text": [
            "<ipython-input-126-62c407884beb>:5: SettingWithCopyWarning: \n",
            "A value is trying to be set on a copy of a slice from a DataFrame.\n",
            "Try using .loc[row_indexer,col_indexer] = value instead\n",
            "\n",
            "See the caveats in the documentation: https://pandas.pydata.org/pandas-docs/stable/user_guide/indexing.html#returning-a-view-versus-a-copy\n",
            "  df2['TempNextDay'] = df3['Temp']\n"
          ]
        }
      ],
      "source": [
        "# Nos crearemos un DataFrame con la fecha, la Temp para esa fecha y la Temp del dia siguiente\n",
        "df2 = df[['Temp']]\n",
        "df3 = df2\n",
        "df3=df3.shift(periods=-1)\n",
        "df2['TempNextDay'] = df3['Temp']\n",
        "df2 = df2.dropna()"
      ]
    },
    {
      "cell_type": "code",
      "execution_count": 127,
      "metadata": {
        "id": "pjZt5FuoG7ah"
      },
      "outputs": [],
      "source": [
        "# Vamos a coger del 2013 al 2017 para entrenamiento y los datos del 2018 para testear\n",
        "train = df2[:'2017'].iloc[:,:]\n",
        "test = df2['2017':'2018'].iloc[:,:]"
      ]
    },
    {
      "cell_type": "code",
      "execution_count": 128,
      "metadata": {
        "id": "xnjDMHbVG_di"
      },
      "outputs": [],
      "source": [
        "# Normalizamos\n",
        "sc = MinMaxScaler(feature_range=(0,1))\n",
        "\n",
        "X_train = sc.fit_transform(train['Temp'].values.reshape(-1,1))\n",
        "y_train = sc.fit_transform(train['TempNextDay'].values.reshape(-1,1))"
      ]
    },
    {
      "cell_type": "markdown",
      "metadata": {
        "id": "38Z5SPMLHERd"
      },
      "source": [
        "## **Crear modelo**"
      ]
    },
    {
      "cell_type": "code",
      "execution_count": 129,
      "metadata": {
        "id": "RB0OET8bHKBi"
      },
      "outputs": [],
      "source": [
        "def create_model(lyrs=[1], act='linear', opt='Adam', dr=0.0):\n",
        "    \n",
        "    model = Sequential()\n",
        "    \n",
        "    # create first hidden layer\n",
        "    model.add(Dense(lyrs[0], input_dim=X_train.shape[1], activation=act))\n",
        "    \n",
        "    # create additional hidden layers\n",
        "    for i in range(1,len(lyrs)):\n",
        "        model.add(Dense(lyrs[i], activation=act))\n",
        "            \n",
        "    # Dropout es un método que desactiva un numero de neuronas de una red neuronal de forma aleatoria. \n",
        "    # Este método ayuda a reducir el overfitting ya que las neuronas cercanas suelen aprender patrones que se relacionan y estas relaciones pueden llegar a formar un patron muy especifico con los datos de entrenamiento, \n",
        "    # con dropout esta dependencia entre neuronas es menor en toda la red neuronal, de esta manera la neuronas necesitan trabajar mejor de forma solitaria y no depender tanto de las relaciones con las neuronas vecinas.\n",
        "    # Dropout tiene un parámetro que indica el porcentaje de neuronas que se van a desactivar.\n",
        "    # add dropout, default is none\n",
        "    model.add(Dropout(dr))\n",
        "    \n",
        "    # create output layer\n",
        "    model.add(Dense(1, activation='sigmoid'))  \n",
        "    \n",
        "    model.compile(loss='binary_crossentropy', optimizer=opt, metrics=['accuracy'])\n",
        "    \n",
        "    return model"
      ]
    },
    {
      "cell_type": "markdown",
      "metadata": {
        "id": "VEcwTPvdJPe7"
      },
      "source": []
    },
    {
      "cell_type": "code",
      "execution_count": 130,
      "metadata": {
        "colab": {
          "base_uri": "https://localhost:8080/"
        },
        "id": "9SqWfM3mIEdd",
        "outputId": "3f7cdeaa-422c-4c30-886e-92497c296282"
      },
      "outputs": [
        {
          "name": "stdout",
          "output_type": "stream",
          "text": [
            "Model: \"sequential_110\"\n",
            "_________________________________________________________________\n",
            " Layer (type)                Output Shape              Param #   \n",
            "=================================================================\n",
            " dense_239 (Dense)           (None, 1)                 2         \n",
            "                                                                 \n",
            " dropout_113 (Dropout)       (None, 1)                 0         \n",
            "                                                                 \n",
            " dense_240 (Dense)           (None, 1)                 2         \n",
            "                                                                 \n",
            "=================================================================\n",
            "Total params: 4\n",
            "Trainable params: 4\n",
            "Non-trainable params: 0\n",
            "_________________________________________________________________\n",
            "None\n"
          ]
        }
      ],
      "source": [
        "model = create_model()\n",
        "print(model.summary())"
      ]
    },
    {
      "cell_type": "markdown",
      "metadata": {
        "id": "nGS9R-_4Ih8t"
      },
      "source": [
        "## **Entrenar modelo**"
      ]
    },
    {
      "cell_type": "code",
      "execution_count": 131,
      "metadata": {
        "colab": {
          "base_uri": "https://localhost:8080/"
        },
        "id": "PIEHsPKDIgHW",
        "outputId": "d790d8b9-0ffd-4dc2-c78d-d3fb86458d54"
      },
      "outputs": [
        {
          "name": "stdout",
          "output_type": "stream",
          "text": [
            "\n",
            "val_acc: 0.12%\n"
          ]
        }
      ],
      "source": [
        "training = model.fit(X_train, y_train, epochs=100, batch_size=32, validation_split=0.2, verbose=0)\n",
        "val_acc = np.mean(training.history['val_accuracy'])\n",
        "print(\"\\n%s: %.2f%%\" % ('val_acc', val_acc*100))"
      ]
    },
    {
      "cell_type": "markdown",
      "metadata": {
        "id": "6dSli-JwI272"
      },
      "source": [
        "## **Optimizando hiperparámetros**"
      ]
    },
    {
      "cell_type": "markdown",
      "metadata": {
        "id": "qTg9qROlI-ny"
      },
      "source": [
        "### batch_size y epochs"
      ]
    },
    {
      "cell_type": "code",
      "execution_count": 132,
      "metadata": {
        "colab": {
          "base_uri": "https://localhost:8080/"
        },
        "id": "XsIFWsvII11i",
        "outputId": "bafdc28b-5118-4533-ec7b-e87915be7d93"
      },
      "outputs": [
        {
          "name": "stdout",
          "output_type": "stream",
          "text": [
            "Fitting 3 folds for each of 6 candidates, totalling 18 fits\n"
          ]
        },
        {
          "name": "stderr",
          "output_type": "stream",
          "text": [
            "<ipython-input-132-5880ac3e41a9>:2: DeprecationWarning: KerasClassifier is deprecated, use Sci-Keras (https://github.com/adriangb/scikeras) instead.\n",
            "  model = KerasClassifier(build_fn=create_model, verbose=0)\n"
          ]
        },
        {
          "name": "stdout",
          "output_type": "stream",
          "text": [
            "[CV] END ...........................batch_size=16, epochs=50; total time=   2.7s\n",
            "[CV] END ...........................batch_size=16, epochs=50; total time=   2.6s\n",
            "[CV] END ...........................batch_size=16, epochs=50; total time=   2.5s\n",
            "[CV] END ..........................batch_size=16, epochs=100; total time=   5.2s\n",
            "[CV] END ..........................batch_size=16, epochs=100; total time=   6.4s\n",
            "[CV] END ..........................batch_size=16, epochs=100; total time=   5.4s\n",
            "[CV] END ...........................batch_size=32, epochs=50; total time=   1.6s\n",
            "[CV] END ...........................batch_size=32, epochs=50; total time=   1.5s\n",
            "[CV] END ...........................batch_size=32, epochs=50; total time=   1.6s\n",
            "[CV] END ..........................batch_size=32, epochs=100; total time=   3.0s\n",
            "[CV] END ..........................batch_size=32, epochs=100; total time=   3.0s\n",
            "[CV] END ..........................batch_size=32, epochs=100; total time=   3.2s\n",
            "[CV] END ...........................batch_size=64, epochs=50; total time=   1.1s\n",
            "[CV] END ...........................batch_size=64, epochs=50; total time=   1.1s\n",
            "[CV] END ...........................batch_size=64, epochs=50; total time=   1.1s\n",
            "[CV] END ..........................batch_size=64, epochs=100; total time=   1.8s\n",
            "[CV] END ..........................batch_size=64, epochs=100; total time=   2.3s\n",
            "[CV] END ..........................batch_size=64, epochs=100; total time=   1.7s\n"
          ]
        }
      ],
      "source": [
        "# create model\n",
        "model = KerasClassifier(build_fn=create_model, verbose=0)\n",
        "\n",
        "# define the grid search parameters\n",
        "batch_size = [16, 32, 64]\n",
        "epochs = [50, 100]\n",
        "param_grid = dict(batch_size=batch_size, epochs=epochs)\n",
        "\n",
        "# search the grid\n",
        "grid = GridSearchCV(estimator=model, \n",
        "                    param_grid=param_grid,\n",
        "                    cv=3,\n",
        "                    verbose=2)  \n",
        "\n",
        "grid_result = grid.fit(X_train, y_train)"
      ]
    },
    {
      "cell_type": "code",
      "execution_count": 133,
      "metadata": {
        "colab": {
          "base_uri": "https://localhost:8080/"
        },
        "id": "5MG2IRhbJJg7",
        "outputId": "238f7bbd-8ad6-4824-fd0f-c29ea7d03416"
      },
      "outputs": [
        {
          "name": "stdout",
          "output_type": "stream",
          "text": [
            "Best: 0.001675 using {'batch_size': 16, 'epochs': 50}\n",
            "0.001675 (0.002369) with: {'batch_size': 16, 'epochs': 50}\n",
            "0.001675 (0.002369) with: {'batch_size': 16, 'epochs': 100}\n",
            "0.001675 (0.002369) with: {'batch_size': 32, 'epochs': 50}\n",
            "0.001675 (0.002369) with: {'batch_size': 32, 'epochs': 100}\n",
            "0.001675 (0.002369) with: {'batch_size': 64, 'epochs': 50}\n",
            "0.001675 (0.002369) with: {'batch_size': 64, 'epochs': 100}\n"
          ]
        }
      ],
      "source": [
        "# summarize results\n",
        "print(\"Best: %f using %s\" % (grid_result.best_score_, grid_result.best_params_))\n",
        "means = grid_result.cv_results_['mean_test_score']\n",
        "stds = grid_result.cv_results_['std_test_score']\n",
        "params = grid_result.cv_results_['params']\n",
        "for mean, stdev, param in zip(means, stds, params):\n",
        "    print(\"%f (%f) with: %r\" % (mean, stdev, param))"
      ]
    },
    {
      "cell_type": "markdown",
      "metadata": {
        "id": "BSQt5MRxKA0y"
      },
      "source": [
        "### Optimizar algoritmo"
      ]
    },
    {
      "cell_type": "code",
      "execution_count": 134,
      "metadata": {
        "colab": {
          "base_uri": "https://localhost:8080/"
        },
        "id": "q-K6RLGaKFr2",
        "outputId": "dd7da77c-30d6-43b1-9d46-955443e6a8d8"
      },
      "outputs": [
        {
          "name": "stdout",
          "output_type": "stream",
          "text": [
            "Fitting 5 folds for each of 6 candidates, totalling 30 fits\n"
          ]
        },
        {
          "name": "stderr",
          "output_type": "stream",
          "text": [
            "<ipython-input-134-82ddf2607ae8>:2: DeprecationWarning: KerasClassifier is deprecated, use Sci-Keras (https://github.com/adriangb/scikeras) instead.\n",
            "  model = KerasClassifier(build_fn=create_model, epochs=50, batch_size=16, verbose=0)\n"
          ]
        },
        {
          "name": "stdout",
          "output_type": "stream",
          "text": [
            "[CV] END ............................................opt=SGD; total time=   3.5s\n",
            "[CV] END ............................................opt=SGD; total time=   3.2s\n",
            "[CV] END ............................................opt=SGD; total time=   3.3s\n",
            "[CV] END ............................................opt=SGD; total time=   3.4s\n",
            "[CV] END ............................................opt=SGD; total time=   3.3s\n",
            "[CV] END ........................................opt=RMSprop; total time=   3.5s\n",
            "[CV] END ........................................opt=RMSprop; total time=   3.1s\n",
            "[CV] END ........................................opt=RMSprop; total time=   3.3s\n",
            "[CV] END ........................................opt=RMSprop; total time=   3.1s\n",
            "[CV] END ........................................opt=RMSprop; total time=   3.1s\n",
            "[CV] END ........................................opt=Adagrad; total time=   2.9s\n",
            "[CV] END ........................................opt=Adagrad; total time=   2.9s\n",
            "[CV] END ........................................opt=Adagrad; total time=   2.9s\n",
            "[CV] END ........................................opt=Adagrad; total time=   3.0s\n",
            "[CV] END ........................................opt=Adagrad; total time=   2.9s\n",
            "[CV] END .......................................opt=Adadelta; total time=   3.1s\n",
            "[CV] END .......................................opt=Adadelta; total time=   3.0s\n",
            "[CV] END .......................................opt=Adadelta; total time=   3.1s\n",
            "[CV] END .......................................opt=Adadelta; total time=   3.1s\n",
            "[CV] END .......................................opt=Adadelta; total time=   3.4s\n",
            "[CV] END ...........................................opt=Adam; total time=   3.0s\n",
            "[CV] END ...........................................opt=Adam; total time=   3.1s\n",
            "[CV] END ...........................................opt=Adam; total time=   3.0s\n",
            "[CV] END ...........................................opt=Adam; total time=   3.2s\n",
            "[CV] END ...........................................opt=Adam; total time=   3.6s\n",
            "[CV] END ..........................................opt=Nadam; total time=   3.6s\n",
            "[CV] END ..........................................opt=Nadam; total time=   3.7s\n",
            "[CV] END ..........................................opt=Nadam; total time=   3.8s\n",
            "[CV] END ..........................................opt=Nadam; total time=   3.7s\n",
            "[CV] END ..........................................opt=Nadam; total time=   3.7s\n"
          ]
        }
      ],
      "source": [
        "# create model\n",
        "model = KerasClassifier(build_fn=create_model, epochs=50, batch_size=16, verbose=0)\n",
        "\n",
        "# define the grid search parameters\n",
        "optimizer = ['SGD', 'RMSprop', 'Adagrad', 'Adadelta', 'Adam', 'Nadam']\n",
        "param_grid = dict(opt=optimizer)\n",
        "\n",
        "# search the grid\n",
        "grid = GridSearchCV(estimator=model, param_grid=param_grid, verbose=2)\n",
        "grid_result = grid.fit(X_train, y_train)"
      ]
    },
    {
      "cell_type": "code",
      "execution_count": 135,
      "metadata": {
        "colab": {
          "base_uri": "https://localhost:8080/"
        },
        "id": "rym0VBHzKSnx",
        "outputId": "5509f63f-8070-4374-ff12-84e6a5b37f6a"
      },
      "outputs": [
        {
          "name": "stdout",
          "output_type": "stream",
          "text": [
            "Best: 0.001676 using {'opt': 'RMSprop'}\n",
            "0.000559 (0.001117) with: {'opt': 'SGD'}\n",
            "0.001676 (0.003352) with: {'opt': 'RMSprop'}\n",
            "0.001676 (0.003352) with: {'opt': 'Adagrad'}\n",
            "0.000559 (0.001117) with: {'opt': 'Adadelta'}\n",
            "0.001676 (0.003352) with: {'opt': 'Adam'}\n",
            "0.001676 (0.003352) with: {'opt': 'Nadam'}\n"
          ]
        }
      ],
      "source": [
        "# summarize results\n",
        "print(\"Best: %f using %s\" % (grid_result.best_score_, grid_result.best_params_))\n",
        "means = grid_result.cv_results_['mean_test_score']\n",
        "stds = grid_result.cv_results_['std_test_score']\n",
        "params = grid_result.cv_results_['params']\n",
        "for mean, stdev, param in zip(means, stds, params):\n",
        "    print(\"%f (%f) with: %r\" % (mean, stdev, param))"
      ]
    },
    {
      "cell_type": "markdown",
      "metadata": {
        "id": "U5surJsVKlFF"
      },
      "source": [
        "### Neuronas ocultas"
      ]
    },
    {
      "cell_type": "code",
      "execution_count": 136,
      "metadata": {
        "colab": {
          "base_uri": "https://localhost:8080/"
        },
        "id": "dyCNY1CxKSk9",
        "outputId": "3f555825-d3ee-4ab6-e4ca-e84da741cb3a"
      },
      "outputs": [
        {
          "name": "stdout",
          "output_type": "stream",
          "text": [
            "Fitting 5 folds for each of 5 candidates, totalling 25 fits\n"
          ]
        },
        {
          "name": "stderr",
          "output_type": "stream",
          "text": [
            "<ipython-input-136-6d7241e85080>:2: DeprecationWarning: KerasClassifier is deprecated, use Sci-Keras (https://github.com/adriangb/scikeras) instead.\n",
            "  model = KerasClassifier(build_fn=create_model,\n"
          ]
        },
        {
          "name": "stdout",
          "output_type": "stream",
          "text": [
            "[CV] END ...........................................lyrs=[8]; total time=   3.2s\n",
            "[CV] END ...........................................lyrs=[8]; total time=   3.4s\n",
            "[CV] END ...........................................lyrs=[8]; total time=   3.5s\n",
            "[CV] END ...........................................lyrs=[8]; total time=   3.4s\n",
            "[CV] END ...........................................lyrs=[8]; total time=   3.3s\n",
            "[CV] END ..........................................lyrs=[10]; total time=   3.3s\n",
            "[CV] END ..........................................lyrs=[10]; total time=   3.7s\n",
            "[CV] END ..........................................lyrs=[10]; total time=   4.0s\n",
            "[CV] END ..........................................lyrs=[10]; total time=   4.9s\n",
            "[CV] END ..........................................lyrs=[10]; total time=   3.8s\n",
            "[CV] END .......................................lyrs=[10, 5]; total time=   3.8s\n",
            "[CV] END .......................................lyrs=[10, 5]; total time=   3.4s\n",
            "[CV] END .......................................lyrs=[10, 5]; total time=   3.2s\n",
            "[CV] END .......................................lyrs=[10, 5]; total time=   3.1s\n",
            "[CV] END .......................................lyrs=[10, 5]; total time=   3.3s\n",
            "[CV] END .......................................lyrs=[12, 6]; total time=   3.4s\n",
            "[CV] END .......................................lyrs=[12, 6]; total time=   3.2s\n",
            "[CV] END .......................................lyrs=[12, 6]; total time=   3.2s\n",
            "[CV] END .......................................lyrs=[12, 6]; total time=   3.1s\n",
            "[CV] END .......................................lyrs=[12, 6]; total time=   3.1s\n",
            "[CV] END ....................................lyrs=[12, 8, 4]; total time=   3.3s\n",
            "[CV] END ....................................lyrs=[12, 8, 4]; total time=   3.3s\n",
            "[CV] END ....................................lyrs=[12, 8, 4]; total time=   3.4s\n",
            "[CV] END ....................................lyrs=[12, 8, 4]; total time=   3.6s\n",
            "[CV] END ....................................lyrs=[12, 8, 4]; total time=   3.5s\n"
          ]
        }
      ],
      "source": [
        "# create model\n",
        "model = KerasClassifier(build_fn=create_model, \n",
        "                        epochs=50, batch_size=16, verbose=0)\n",
        "\n",
        "# define the grid search parameters\n",
        "layers = [[8],[10],[10,5],[12,6],[12,8,4]]\n",
        "param_grid = dict(lyrs=layers)\n",
        "\n",
        "# search the grid\n",
        "grid = GridSearchCV(estimator=model, param_grid=param_grid, verbose=2)\n",
        "grid_result = grid.fit(X_train, y_train)"
      ]
    },
    {
      "cell_type": "code",
      "execution_count": 137,
      "metadata": {
        "colab": {
          "base_uri": "https://localhost:8080/"
        },
        "id": "cY2Oj5koKti8",
        "outputId": "920a2cbd-dced-4549-e428-23a21141559c"
      },
      "outputs": [
        {
          "name": "stdout",
          "output_type": "stream",
          "text": [
            "Best: 0.001676 using {'lyrs': [8]}\n",
            "0.001676 (0.003352) with: {'lyrs': [8]}\n",
            "0.001676 (0.003352) with: {'lyrs': [10]}\n",
            "0.001676 (0.003352) with: {'lyrs': [10, 5]}\n",
            "0.001676 (0.003352) with: {'lyrs': [12, 6]}\n",
            "0.001676 (0.003352) with: {'lyrs': [12, 8, 4]}\n"
          ]
        }
      ],
      "source": [
        "# summarize results\n",
        "print(\"Best: %f using %s\" % (grid_result.best_score_, grid_result.best_params_))\n",
        "means = grid_result.cv_results_['mean_test_score']\n",
        "stds = grid_result.cv_results_['std_test_score']\n",
        "params = grid_result.cv_results_['params']\n",
        "for mean, stdev, param in zip(means, stds, params):\n",
        "    print(\"%f (%f) with: %r\" % (mean, stdev, param))"
      ]
    },
    {
      "cell_type": "markdown",
      "metadata": {
        "id": "bKfN4B4KK1b0"
      },
      "source": [
        "### Dropout"
      ]
    },
    {
      "cell_type": "code",
      "execution_count": 138,
      "metadata": {
        "colab": {
          "base_uri": "https://localhost:8080/"
        },
        "id": "Gm96qY6kKzEl",
        "outputId": "2c005b4f-6671-407f-c09a-75eec4eb64fe"
      },
      "outputs": [
        {
          "name": "stdout",
          "output_type": "stream",
          "text": [
            "Fitting 5 folds for each of 6 candidates, totalling 30 fits\n"
          ]
        },
        {
          "name": "stderr",
          "output_type": "stream",
          "text": [
            "<ipython-input-138-77855fcf2344>:2: DeprecationWarning: KerasClassifier is deprecated, use Sci-Keras (https://github.com/adriangb/scikeras) instead.\n",
            "  model = KerasClassifier(build_fn=create_model,\n"
          ]
        },
        {
          "name": "stdout",
          "output_type": "stream",
          "text": [
            "[CV] END .............................................dr=0.0; total time=   1.8s\n",
            "[CV] END .............................................dr=0.0; total time=   1.9s\n",
            "[CV] END .............................................dr=0.0; total time=   1.9s\n",
            "[CV] END .............................................dr=0.0; total time=   1.7s\n",
            "[CV] END .............................................dr=0.0; total time=   1.7s\n",
            "[CV] END ............................................dr=0.01; total time=   1.7s\n",
            "[CV] END ............................................dr=0.01; total time=   1.8s\n",
            "[CV] END ............................................dr=0.01; total time=   1.7s\n",
            "[CV] END ............................................dr=0.01; total time=   1.7s\n",
            "[CV] END ............................................dr=0.01; total time=   1.7s\n",
            "[CV] END ............................................dr=0.05; total time=   1.7s\n",
            "[CV] END ............................................dr=0.05; total time=   1.7s\n",
            "[CV] END ............................................dr=0.05; total time=   1.8s\n",
            "[CV] END ............................................dr=0.05; total time=   1.7s\n",
            "[CV] END ............................................dr=0.05; total time=   1.8s\n",
            "[CV] END .............................................dr=0.1; total time=   1.7s\n",
            "[CV] END .............................................dr=0.1; total time=   2.0s\n",
            "[CV] END .............................................dr=0.1; total time=   1.7s\n",
            "[CV] END .............................................dr=0.1; total time=   1.7s\n",
            "[CV] END .............................................dr=0.1; total time=   1.7s\n",
            "[CV] END .............................................dr=0.2; total time=   1.7s\n",
            "[CV] END .............................................dr=0.2; total time=   1.7s\n",
            "[CV] END .............................................dr=0.2; total time=   1.7s\n",
            "[CV] END .............................................dr=0.2; total time=   1.9s\n",
            "[CV] END .............................................dr=0.2; total time=   1.8s\n",
            "[CV] END .............................................dr=0.5; total time=   1.8s\n",
            "[CV] END .............................................dr=0.5; total time=   1.8s\n",
            "[CV] END .............................................dr=0.5; total time=   1.7s\n",
            "[CV] END .............................................dr=0.5; total time=   1.7s\n",
            "[CV] END .............................................dr=0.5; total time=   2.0s\n"
          ]
        }
      ],
      "source": [
        "# create model\n",
        "model = KerasClassifier(build_fn=create_model, \n",
        "                        epochs=50, batch_size=32, verbose=0)\n",
        "\n",
        "# define the grid search parameters\n",
        "drops = [0.0, 0.01, 0.05, 0.1, 0.2, 0.5]\n",
        "param_grid = dict(dr=drops)\n",
        "grid = GridSearchCV(estimator=model, param_grid=param_grid, verbose=2)\n",
        "grid_result = grid.fit(X_train, y_train)"
      ]
    },
    {
      "cell_type": "code",
      "execution_count": 139,
      "metadata": {
        "colab": {
          "base_uri": "https://localhost:8080/"
        },
        "id": "YM0ZgSEaK-Xv",
        "outputId": "1fe71ad8-2dff-4898-81e7-41c53a957b8a"
      },
      "outputs": [
        {
          "name": "stdout",
          "output_type": "stream",
          "text": [
            "Best: 0.001676 using {'dr': 0.0}\n",
            "0.001676 (0.003352) with: {'dr': 0.0}\n",
            "0.001676 (0.003352) with: {'dr': 0.01}\n",
            "0.001676 (0.003352) with: {'dr': 0.05}\n",
            "0.001676 (0.003352) with: {'dr': 0.1}\n",
            "0.001676 (0.003352) with: {'dr': 0.2}\n",
            "0.001676 (0.003352) with: {'dr': 0.5}\n"
          ]
        }
      ],
      "source": [
        "# summarize results\n",
        "print(\"Best: %f using %s\" % (grid_result.best_score_, grid_result.best_params_))\n",
        "means = grid_result.cv_results_['mean_test_score']\n",
        "stds = grid_result.cv_results_['std_test_score']\n",
        "params = grid_result.cv_results_['params']\n",
        "for mean, stdev, param in zip(means, stds, params):\n",
        "    print(\"%f (%f) with: %r\" % (mean, stdev, param))"
      ]
    },
    {
      "cell_type": "markdown",
      "metadata": {
        "id": "MyLZSToxLXDU"
      },
      "source": [
        "## **Modelo final**"
      ]
    },
    {
      "cell_type": "code",
      "execution_count": 140,
      "metadata": {
        "colab": {
          "base_uri": "https://localhost:8080/"
        },
        "id": "DQ_JGRXILeF1",
        "outputId": "97eedd40-221e-4d8c-8e3a-4b46a5a6b836"
      },
      "outputs": [
        {
          "name": "stdout",
          "output_type": "stream",
          "text": [
            "Model: \"sequential_218\"\n",
            "_________________________________________________________________\n",
            " Layer (type)                Output Shape              Param #   \n",
            "=================================================================\n",
            " dense_475 (Dense)           (None, 8)                 16        \n",
            "                                                                 \n",
            " dropout_221 (Dropout)       (None, 8)                 0         \n",
            "                                                                 \n",
            " dense_476 (Dense)           (None, 1)                 9         \n",
            "                                                                 \n",
            "=================================================================\n",
            "Total params: 25\n",
            "Trainable params: 25\n",
            "Non-trainable params: 0\n",
            "_________________________________________________________________\n",
            "None\n"
          ]
        }
      ],
      "source": [
        "model = create_model(lyrs=[8], opt='SGD', dr=0.0)\n",
        "\n",
        "print(model.summary())"
      ]
    },
    {
      "cell_type": "markdown",
      "metadata": {
        "id": "SA9MecGTLgk8"
      },
      "source": [
        "## **Entrenando modelo final**"
      ]
    },
    {
      "cell_type": "code",
      "execution_count": 141,
      "metadata": {
        "id": "SzTqtNe6Ll8R"
      },
      "outputs": [],
      "source": [
        "# train model on full train set, with 80/20 CV split\n",
        "training = model.fit(X_train, y_train, epochs=50, batch_size=16, \n",
        "                     validation_split=0.2, verbose=0)"
      ]
    },
    {
      "cell_type": "markdown",
      "metadata": {
        "id": "85D6-XG9L8HQ"
      },
      "source": [
        "## **Predicciones**"
      ]
    },
    {
      "cell_type": "code",
      "execution_count": 142,
      "metadata": {
        "id": "fdOoyXowL7W1"
      },
      "outputs": [],
      "source": [
        "X_test = sc.fit_transform(test['Temp'].values.reshape(-1,1))\n",
        "y_test = sc.fit_transform(test['TempNextDay'].values.reshape(-1,1))\n",
        "\n",
        "# Realizamos la prediccion y aplicamos normalización inversa para que esté en escala real\n",
        "y_predicted = model.predict(X_test)\n",
        "y_predicted = sc.inverse_transform(y_predicted)"
      ]
    },
    {
      "cell_type": "markdown",
      "metadata": {
        "id": "3FicppyBN0qE"
      },
      "source": [
        "## **Visualizando modelo final**"
      ]
    },
    {
      "cell_type": "code",
      "execution_count": 143,
      "metadata": {
        "colab": {
          "base_uri": "https://localhost:8080/"
        },
        "id": "Ndxn9BsvN4ds",
        "outputId": "b60f2673-ab23-44d0-e4f2-167cb083251f"
      },
      "outputs": [
        {
          "name": "stderr",
          "output_type": "stream",
          "text": [
            "<ipython-input-143-8d9d115a5310>:1: SettingWithCopyWarning: \n",
            "A value is trying to be set on a copy of a slice from a DataFrame.\n",
            "Try using .loc[row_indexer,col_indexer] = value instead\n",
            "\n",
            "See the caveats in the documentation: https://pandas.pydata.org/pandas-docs/stable/user_guide/indexing.html#returning-a-view-versus-a-copy\n",
            "  test['TempPredicted'] = y_predicted\n"
          ]
        },
        {
          "data": {
            "image/png": "[encoded data removed]",
            "text/plain": [
              "<Figure size 432x288 with 1 Axes>"
            ]
          },
          "metadata": {
            "needs_background": "light"
          },
          "output_type": "display_data"
        }
      ],
      "source": [
        "test['TempPredicted'] = y_predicted\n",
        "plt.plot(train['Temp'], color='green')\n",
        "plt.plot(test['Temp'], color='red', label='Valor real de la acción')\n",
        "plt.plot(test['TempPredicted'], color='blue', label='Predicción de la acción')\n",
        "#plt.ylim(1.1 * np.min(resultados['Prediccion'])/2, 1.1 * np.max(resultados['Prediccion']))\n",
        "plt.xlabel('Tiempo')\n",
        "plt.ylabel('Temp')\n",
        "plt.legend()\n",
        "plt.show()"
      ]
    },
    {
      "cell_type": "markdown",
      "metadata": {
        "id": "jb3BLADT47b_"
      },
      "source": [
        "# **LSTM (Long Short-Term Memory)**"
      ]
    },
    {
      "cell_type": "markdown",
      "metadata": {
        "id": "FfAF78eJK0eJ"
      },
      "source": [
        "Las LSTM son un tipo especial de redes recurrentes. La característica principal de las redes recurrentes es que la información puede persistir introduciendo bucles en el diagrama de la red, por lo que, básicamente, pueden «recordar» estados previos y utilizar esta información para decidir cuál será el siguiente. Esta característica las hace muy adecuadas para manejar series cronológicas.\n",
        "\n",
        "![Redes_Neuronales.png](data:image/png;base64,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)\n",
        "\n"
      ]
    },
    {
      "cell_type": "markdown",
      "metadata": {
        "id": "ovqWq20rNDO_"
      },
      "source": [
        "En A), Y depende únicamente de X. En B), Y depende de X y del valor anterior de Y. En C), la lógica es más compleja para mejorar el efecto de instancias anteriores de Y (y, por consiguiente, de X)."
      ]
    },
    {
      "cell_type": "code",
      "execution_count": 144,
      "metadata": {
        "id": "txsvbt-TmiGL"
      },
      "outputs": [
        {
          "data": {
            "text/html": [
              "<div>\n",
              "<style scoped>\n",
              "    .dataframe tbody tr th:only-of-type {\n",
              "        vertical-align: middle;\n",
              "    }\n",
              "\n",
              "    .dataframe tbody tr th {\n",
              "        vertical-align: top;\n",
              "    }\n",
              "\n",
              "    .dataframe thead th {\n",
              "        text-align: right;\n",
              "    }\n",
              "</style>\n",
              "<table border=\"1\" class=\"dataframe\">\n",
              "  <thead>\n",
              "    <tr style=\"text-align: right;\">\n",
              "      <th></th>\n",
              "      <th>Temp</th>\n",
              "    </tr>\n",
              "    <tr>\n",
              "      <th>FECHA</th>\n",
              "      <th></th>\n",
              "    </tr>\n",
              "  </thead>\n",
              "  <tbody>\n",
              "    <tr>\n",
              "      <th>2013-01-01</th>\n",
              "      <td>12.80</td>\n",
              "    </tr>\n",
              "    <tr>\n",
              "      <th>2013-01-02</th>\n",
              "      <td>11.40</td>\n",
              "    </tr>\n",
              "    <tr>\n",
              "      <th>2013-01-03</th>\n",
              "      <td>10.60</td>\n",
              "    </tr>\n",
              "    <tr>\n",
              "      <th>2013-01-04</th>\n",
              "      <td>11.70</td>\n",
              "    </tr>\n",
              "    <tr>\n",
              "      <th>2013-01-05</th>\n",
              "      <td>13.60</td>\n",
              "    </tr>\n",
              "    <tr>\n",
              "      <th>...</th>\n",
              "      <td>...</td>\n",
              "    </tr>\n",
              "    <tr>\n",
              "      <th>2019-12-27</th>\n",
              "      <td>13.55</td>\n",
              "    </tr>\n",
              "    <tr>\n",
              "      <th>2019-12-28</th>\n",
              "      <td>10.55</td>\n",
              "    </tr>\n",
              "    <tr>\n",
              "      <th>2019-12-29</th>\n",
              "      <td>11.75</td>\n",
              "    </tr>\n",
              "    <tr>\n",
              "      <th>2019-12-30</th>\n",
              "      <td>NaN</td>\n",
              "    </tr>\n",
              "    <tr>\n",
              "      <th>2019-12-31</th>\n",
              "      <td>NaN</td>\n",
              "    </tr>\n",
              "  </tbody>\n",
              "</table>\n",
              "<p>2191 rows × 1 columns</p>\n",
              "</div>"
            ],
            "text/plain": [
              "             Temp\n",
              "FECHA            \n",
              "2013-01-01  12.80\n",
              "2013-01-02  11.40\n",
              "2013-01-03  10.60\n",
              "2013-01-04  11.70\n",
              "2013-01-05  13.60\n",
              "...           ...\n",
              "2019-12-27  13.55\n",
              "2019-12-28  10.55\n",
              "2019-12-29  11.75\n",
              "2019-12-30    NaN\n",
              "2019-12-31    NaN\n",
              "\n",
              "[2191 rows x 1 columns]"
            ]
          },
          "execution_count": 144,
          "metadata": {},
          "output_type": "execute_result"
        }
      ],
      "source": [
        "# Vamos a coger del 2013 al 2017 para entrenamiento y los datos del 2018 para testear\n",
        "# Para poder introducir los datos en una red neuronal hay que transformarlos, ya que solo funciona con arrays\n",
        "df2 = df[['Temp']]\n",
        "train = df2[:'2017']\n",
        "test = df2['2017':'2018']\n",
        "df2"
      ]
    },
    {
      "cell_type": "code",
      "execution_count": 145,
      "metadata": {
        "colab": {
          "base_uri": "https://localhost:8080/"
        },
        "id": "5AhLiTdoM-AL",
        "outputId": "bfec73e5-80a0-4582-aaa5-a5d77de36540"
      },
      "outputs": [
        {
          "data": {
            "text/plain": [
              "(1826, 1)"
            ]
          },
          "execution_count": 145,
          "metadata": {},
          "output_type": "execute_result"
        }
      ],
      "source": [
        "# Tiene que ser un vector columna\n",
        "train.shape"
      ]
    },
    {
      "cell_type": "code",
      "execution_count": 146,
      "metadata": {},
      "outputs": [
        {
          "data": {
            "text/html": [
              "<div>\n",
              "<style scoped>\n",
              "    .dataframe tbody tr th:only-of-type {\n",
              "        vertical-align: middle;\n",
              "    }\n",
              "\n",
              "    .dataframe tbody tr th {\n",
              "        vertical-align: top;\n",
              "    }\n",
              "\n",
              "    .dataframe thead th {\n",
              "        text-align: right;\n",
              "    }\n",
              "</style>\n",
              "<table border=\"1\" class=\"dataframe\">\n",
              "  <thead>\n",
              "    <tr style=\"text-align: right;\">\n",
              "      <th></th>\n",
              "      <th>Temp</th>\n",
              "    </tr>\n",
              "    <tr>\n",
              "      <th>FECHA</th>\n",
              "      <th></th>\n",
              "    </tr>\n",
              "  </thead>\n",
              "  <tbody>\n",
              "    <tr>\n",
              "      <th>2013-01-01</th>\n",
              "      <td>12.80</td>\n",
              "    </tr>\n",
              "    <tr>\n",
              "      <th>2013-01-02</th>\n",
              "      <td>11.40</td>\n",
              "    </tr>\n",
              "    <tr>\n",
              "      <th>2013-01-03</th>\n",
              "      <td>10.60</td>\n",
              "    </tr>\n",
              "    <tr>\n",
              "      <th>2013-01-04</th>\n",
              "      <td>11.70</td>\n",
              "    </tr>\n",
              "    <tr>\n",
              "      <th>2013-01-05</th>\n",
              "      <td>13.60</td>\n",
              "    </tr>\n",
              "    <tr>\n",
              "      <th>...</th>\n",
              "      <td>...</td>\n",
              "    </tr>\n",
              "    <tr>\n",
              "      <th>2017-12-27</th>\n",
              "      <td>15.00</td>\n",
              "    </tr>\n",
              "    <tr>\n",
              "      <th>2017-12-28</th>\n",
              "      <td>15.80</td>\n",
              "    </tr>\n",
              "    <tr>\n",
              "      <th>2017-12-29</th>\n",
              "      <td>15.55</td>\n",
              "    </tr>\n",
              "    <tr>\n",
              "      <th>2017-12-30</th>\n",
              "      <td>18.40</td>\n",
              "    </tr>\n",
              "    <tr>\n",
              "      <th>2017-12-31</th>\n",
              "      <td>15.30</td>\n",
              "    </tr>\n",
              "  </tbody>\n",
              "</table>\n",
              "<p>1826 rows × 1 columns</p>\n",
              "</div>"
            ],
            "text/plain": [
              "             Temp\n",
              "FECHA            \n",
              "2013-01-01  12.80\n",
              "2013-01-02  11.40\n",
              "2013-01-03  10.60\n",
              "2013-01-04  11.70\n",
              "2013-01-05  13.60\n",
              "...           ...\n",
              "2017-12-27  15.00\n",
              "2017-12-28  15.80\n",
              "2017-12-29  15.55\n",
              "2017-12-30  18.40\n",
              "2017-12-31  15.30\n",
              "\n",
              "[1826 rows x 1 columns]"
            ]
          },
          "execution_count": 146,
          "metadata": {},
          "output_type": "execute_result"
        }
      ],
      "source": [
        "train"
      ]
    },
    {
      "cell_type": "code",
      "execution_count": 147,
      "metadata": {
        "colab": {
          "base_uri": "https://localhost:8080/",
          "height": 269
        },
        "id": "514toUNP152K",
        "outputId": "f26bbd04-9525-4610-bdfb-4c44142b76cd"
      },
      "outputs": [
        {
          "data": {
            "image/png": "[encoded data removed]",
            "text/plain": [
              "<Figure size 432x288 with 1 Axes>"
            ]
          },
          "metadata": {
            "needs_background": "light"
          },
          "output_type": "display_data"
        }
      ],
      "source": [
        "train['Temp'].plot(legend=True)\n",
        "test['Temp'].plot(legend=True)\n",
        "plt.legend(['Train (2013-2017)', 'Test (2018)'])\n",
        "plt.show()"
      ]
    },
    {
      "cell_type": "markdown",
      "metadata": {
        "id": "O-Vsv-JARmNd"
      },
      "source": [
        "## **Normalización**"
      ]
    },
    {
      "cell_type": "code",
      "execution_count": 148,
      "metadata": {
        "id": "M5i-qUbCogcf"
      },
      "outputs": [],
      "source": [
        "sc = MinMaxScaler(feature_range=(0,1))\n",
        "train_scaled = sc.fit_transform(train)"
      ]
    },
    {
      "cell_type": "markdown",
      "metadata": {
        "id": "BSudhQ2QRrgW"
      },
      "source": [
        "## **Estructura datos entrada**"
      ]
    },
    {
      "cell_type": "code",
      "execution_count": 149,
      "metadata": {
        "colab": {
          "base_uri": "https://localhost:8080/"
        },
        "id": "TGIghOS9tESA",
        "outputId": "d1664bdc-8f9a-44b2-9a7c-5408444c33c2"
      },
      "outputs": [
        {
          "data": {
            "text/plain": [
              "(1766, 60, 1)"
            ]
          },
          "execution_count": 149,
          "metadata": {},
          "output_type": "execute_result"
        }
      ],
      "source": [
        "# Hay que crear una estructura de datos para indicarle a la red lo que tiene que recordar \n",
        "# y poder hacer una predección en base a datos anteriores\n",
        "X_train = []\n",
        "y_train = []\n",
        "\n",
        "# Estructura de datos con 60 pasos y un valor de salida\n",
        "# 60 timesteps significa que para un día dado la red es capaz de mirar los 60 días anteriores:\n",
        "# 60 precios anteriores al día actual y en base a esa información predice el precio de la acción \n",
        "for i in range(60,len(train_scaled)):\n",
        "    # X: para cada día hacemos un bloque correspondiente al precio de los 60 días anteriores\n",
        "    X_train.append(train_scaled[i-60:i,0])\n",
        "    # Y: el precio del día\n",
        "    y_train.append(train_scaled[i,0])\n",
        "\n",
        "# Tenemos una matriz donde cada fila contiene 60 columnas correspondientes a los 60 días anteriores\n",
        "X_train, y_train = np.array(X_train), np.array(y_train)\n",
        "\n",
        "# Reshape X_train para que se ajuste al modelo en Keras\n",
        "# añadiendo una nueva dimensión \n",
        "X_train = np.reshape(X_train, (X_train.shape[0], X_train.shape[1], 1))\n",
        "X_train.shape"
      ]
    },
    {
      "cell_type": "markdown",
      "metadata": {
        "id": "wH0qh63mRy0V"
      },
      "source": [
        "## **Modelo**"
      ]
    },
    {
      "cell_type": "markdown",
      "metadata": {
        "id": "Wn5Rt4OlQJc1"
      },
      "source": [
        "Creamos un modelo secuencial al que iremos añadiendo capas, que pueden ser:\n",
        "\n",
        "*   Dense: Capa de neuronas artificiales\n",
        "*   LSTM: Capa de neuronas con capacidad de memoria\n",
        "*   Dropout: Es una técnica de regularización que elimina conexiones neuronales para evitar el sobreajuste, de esta forma se evita que el algoritmo memorice los datos en vez de aprender de ellos. \n",
        "\n",
        "Antes de crear la Red LSTM debemos reajustar los sets que acabamos de obtener, para indicar que cada ejemplo de entrenamiento a la entrada del modelo será un vector de 60x1.\n",
        "\n",
        "Para el caso de cada una de las salidas (almacenadas en y_train) debemos simplemente especificar que su tamaño será igual a 1, que corresponde al único valor predicho por la red."
      ]
    },
    {
      "cell_type": "code",
      "execution_count": 150,
      "metadata": {
        "id": "3gLFhPRkOiZa"
      },
      "outputs": [],
      "source": [
        "# Definimos el tamaño de los datos de entrada y de salida\n",
        "dim_entrada = (X_train.shape[1],1)\n",
        "dim_salida = 1\n",
        "\n",
        "modelo = Sequential()\n",
        "# Añadimos la primera capa y especificamos el número de neuromas (50) y el tamaño de cada dato de entrada\n",
        "modelo.add(LSTM (units=50, return_sequences=True, input_shape=dim_entrada))\n",
        "modelo.add(Dropout(0.2))\n",
        "# Añadimos la segunda capa\n",
        "modelo.add(LSTM (units=50, return_sequences=True))\n",
        "modelo.add(Dropout(0.2))\n",
        "# Añadimos la tercera capa\n",
        "modelo.add(LSTM (units=50, return_sequences=True))\n",
        "modelo.add(Dropout(0.2))\n",
        "# Añadimos la cuarta capa\n",
        "modelo.add(LSTM (units=50))\n",
        "modelo.add(Dropout(0.2))\n",
        "# Añadimos la capa de salida (Dense) y especificamos que el campo de salida es igual a 1\n",
        "modelo.add(Dense(units=dim_salida))"
      ]
    },
    {
      "cell_type": "markdown",
      "metadata": {
        "id": "_gUwVxCsTjkT"
      },
      "source": [
        "## **Compilación**"
      ]
    },
    {
      "cell_type": "markdown",
      "metadata": {
        "id": "-zoV4pHMTxS-"
      },
      "source": [
        "*   El optimizador se encarga de optimizar y actualizar los pesos de la red. Usaremos el algoritmo adam que es el que mejores resultados nos aporta.\n",
        "*   loss: Cuando la red hace una predicción coge el valor real y lo compará con la predicción. Para calcular el error de predicción, se utilizará el método error cuadrático medio. "
      ]
    },
    {
      "cell_type": "code",
      "execution_count": 151,
      "metadata": {
        "id": "ePBSzFb4Tq54"
      },
      "outputs": [],
      "source": [
        "# Compilamos el modelo definiendo la función de error (loss) y el método que se usa para minimizarla (optimizer)\n",
        "modelo.compile(optimizer='adam', loss='mean_squared_error')"
      ]
    },
    {
      "cell_type": "markdown",
      "metadata": {
        "id": "mfn-2ilVUbXk"
      },
      "source": [
        "## **Entrenamiento**"
      ]
    },
    {
      "cell_type": "markdown",
      "metadata": {
        "id": "qMEtyd0wUoeT"
      },
      "source": [
        "*   epochs: Especificamos las veces que la red propagara el error hacia atrás para aprender y hacer mejores predicciones. Es la cantidad de veces que la red realizará una predicción y propagara hacia atrás el error, para aprender de él y hacer mejores predicciones\n",
        "*   batch_size: Para este proceso de predicción, corrección y propagación hacia atrás, no lo haremos con un solo bloque de datos, si no de 32. Si no el entrenamiento sería demasiado pesado para la red, el tener que actualizar los pesos a cada dato. Vamos actualizando los pesos con bloques de datos."
      ]
    },
    {
      "cell_type": "code",
      "execution_count": 152,
      "metadata": {
        "colab": {
          "base_uri": "https://localhost:8080/"
        },
        "id": "8dylzzIwVFrI",
        "outputId": "3d3cd7d5-b015-4ae2-ccaf-b9f686867dcc"
      },
      "outputs": [
        {
          "name": "stdout",
          "output_type": "stream",
          "text": [
            "Epoch 1/10\n",
            "56/56 [==============================] - 8s 60ms/step - loss: nan\n",
            "Epoch 2/10\n",
            "56/56 [==============================] - 3s 61ms/step - loss: nan\n",
            "Epoch 3/10\n",
            "56/56 [==============================] - 3s 60ms/step - loss: nan\n",
            "Epoch 4/10\n",
            "56/56 [==============================] - 3s 62ms/step - loss: nan\n",
            "Epoch 5/10\n",
            "56/56 [==============================] - 3s 60ms/step - loss: nan\n",
            "Epoch 6/10\n",
            "56/56 [==============================] - 3s 60ms/step - loss: nan\n",
            "Epoch 7/10\n",
            "56/56 [==============================] - 3s 62ms/step - loss: nan 0s - l\n",
            "Epoch 8/10\n",
            "56/56 [==============================] - 4s 63ms/step - loss: nan\n",
            "Epoch 9/10\n",
            "56/56 [==============================] - 3s 62ms/step - loss: nan\n",
            "Epoch 10/10\n",
            "56/56 [==============================] - 3s 62ms/step - loss: nan\n"
          ]
        },
        {
          "data": {
            "text/plain": [
              "<keras.callbacks.History at 0x25bdee5bfd0>"
            ]
          },
          "execution_count": 152,
          "metadata": {},
          "output_type": "execute_result"
        }
      ],
      "source": [
        "# Entrenamos el modelo con epochs=100 (100 iteraciones) y batch_size=32 (lotes de 32 datos)\n",
        "modelo.fit(X_train,y_train,epochs=10,batch_size=32)"
      ]
    },
    {
      "cell_type": "markdown",
      "metadata": {
        "id": "UQJu_tqJVNAr"
      },
      "source": [
        "## **Predicciones**"
      ]
    },
    {
      "cell_type": "markdown",
      "metadata": {
        "id": "n0seoAN-jQVe"
      },
      "source": [
        "Hay que preparar los datos como en el caso de train, esto es, hacemos bloques de 60 días para predecir el valor de la acción en el siguiente día."
      ]
    },
    {
      "cell_type": "code",
      "execution_count": 153,
      "metadata": {
        "colab": {
          "base_uri": "https://localhost:8080/"
        },
        "id": "dOlzxHF7PMqf",
        "outputId": "da9a5ba5-bf1b-41ee-c648-957af92b3037"
      },
      "outputs": [
        {
          "data": {
            "text/plain": [
              "array([[nan],\n",
              "       [nan],\n",
              "       [nan],\n",
              "       [nan],\n",
              "       [nan],\n",
              "       [nan],\n",
              "       [nan],\n",
              "       [nan],\n",
              "       [nan],\n",
              "       [nan],\n",
              "       [nan],\n",
              "       [nan],\n",
              "       [nan],\n",
              "       [nan],\n",
              "       [nan],\n",
              "       [nan],\n",
              "       [nan],\n",
              "       [nan],\n",
              "       [nan],\n",
              "       [nan],\n",
              "       [nan],\n",
              "       [nan],\n",
              "       [nan],\n",
              "       [nan],\n",
              "       [nan],\n",
              "       [nan],\n",
              "       [nan],\n",
              "       [nan],\n",
              "       [nan],\n",
              "       [nan],\n",
              "       [nan],\n",
              "       [nan],\n",
              "       [nan],\n",
              "       [nan],\n",
              "       [nan],\n",
              "       [nan],\n",
              "       [nan],\n",
              "       [nan],\n",
              "       [nan],\n",
              "       [nan],\n",
              "       [nan],\n",
              "       [nan],\n",
              "       [nan],\n",
              "       [nan],\n",
              "       [nan],\n",
              "       [nan],\n",
              "       [nan],\n",
              "       [nan],\n",
              "       [nan],\n",
              "       [nan],\n",
              "       [nan],\n",
              "       [nan],\n",
              "       [nan],\n",
              "       [nan],\n",
              "       [nan],\n",
              "       [nan],\n",
              "       [nan],\n",
              "       [nan],\n",
              "       [nan],\n",
              "       [nan],\n",
              "       [nan],\n",
              "       [nan],\n",
              "       [nan],\n",
              "       [nan],\n",
              "       [nan],\n",
              "       [nan],\n",
              "       [nan],\n",
              "       [nan],\n",
              "       [nan],\n",
              "       [nan],\n",
              "       [nan],\n",
              "       [nan],\n",
              "       [nan],\n",
              "       [nan],\n",
              "       [nan],\n",
              "       [nan],\n",
              "       [nan],\n",
              "       [nan],\n",
              "       [nan],\n",
              "       [nan],\n",
              "       [nan],\n",
              "       [nan],\n",
              "       [nan],\n",
              "       [nan],\n",
              "       [nan],\n",
              "       [nan],\n",
              "       [nan],\n",
              "       [nan],\n",
              "       [nan],\n",
              "       [nan],\n",
              "       [nan],\n",
              "       [nan],\n",
              "       [nan],\n",
              "       [nan],\n",
              "       [nan],\n",
              "       [nan],\n",
              "       [nan],\n",
              "       [nan],\n",
              "       [nan],\n",
              "       [nan],\n",
              "       [nan],\n",
              "       [nan],\n",
              "       [nan],\n",
              "       [nan],\n",
              "       [nan],\n",
              "       [nan],\n",
              "       [nan],\n",
              "       [nan],\n",
              "       [nan],\n",
              "       [nan],\n",
              "       [nan],\n",
              "       [nan],\n",
              "       [nan],\n",
              "       [nan],\n",
              "       [nan],\n",
              "       [nan],\n",
              "       [nan],\n",
              "       [nan],\n",
              "       [nan],\n",
              "       [nan],\n",
              "       [nan],\n",
              "       [nan],\n",
              "       [nan],\n",
              "       [nan],\n",
              "       [nan],\n",
              "       [nan],\n",
              "       [nan],\n",
              "       [nan],\n",
              "       [nan],\n",
              "       [nan],\n",
              "       [nan],\n",
              "       [nan],\n",
              "       [nan],\n",
              "       [nan],\n",
              "       [nan],\n",
              "       [nan],\n",
              "       [nan],\n",
              "       [nan],\n",
              "       [nan],\n",
              "       [nan],\n",
              "       [nan],\n",
              "       [nan],\n",
              "       [nan],\n",
              "       [nan],\n",
              "       [nan],\n",
              "       [nan],\n",
              "       [nan],\n",
              "       [nan],\n",
              "       [nan],\n",
              "       [nan],\n",
              "       [nan],\n",
              "       [nan],\n",
              "       [nan],\n",
              "       [nan],\n",
              "       [nan],\n",
              "       [nan],\n",
              "       [nan],\n",
              "       [nan],\n",
              "       [nan],\n",
              "       [nan],\n",
              "       [nan],\n",
              "       [nan],\n",
              "       [nan],\n",
              "       [nan],\n",
              "       [nan],\n",
              "       [nan],\n",
              "       [nan],\n",
              "       [nan],\n",
              "       [nan],\n",
              "       [nan],\n",
              "       [nan],\n",
              "       [nan],\n",
              "       [nan],\n",
              "       [nan],\n",
              "       [nan],\n",
              "       [nan],\n",
              "       [nan],\n",
              "       [nan],\n",
              "       [nan],\n",
              "       [nan],\n",
              "       [nan],\n",
              "       [nan],\n",
              "       [nan],\n",
              "       [nan],\n",
              "       [nan],\n",
              "       [nan],\n",
              "       [nan],\n",
              "       [nan],\n",
              "       [nan],\n",
              "       [nan],\n",
              "       [nan],\n",
              "       [nan],\n",
              "       [nan],\n",
              "       [nan],\n",
              "       [nan],\n",
              "       [nan],\n",
              "       [nan],\n",
              "       [nan],\n",
              "       [nan],\n",
              "       [nan],\n",
              "       [nan],\n",
              "       [nan],\n",
              "       [nan],\n",
              "       [nan],\n",
              "       [nan],\n",
              "       [nan],\n",
              "       [nan],\n",
              "       [nan],\n",
              "       [nan],\n",
              "       [nan],\n",
              "       [nan],\n",
              "       [nan],\n",
              "       [nan],\n",
              "       [nan],\n",
              "       [nan],\n",
              "       [nan],\n",
              "       [nan],\n",
              "       [nan],\n",
              "       [nan],\n",
              "       [nan],\n",
              "       [nan],\n",
              "       [nan],\n",
              "       [nan],\n",
              "       [nan],\n",
              "       [nan],\n",
              "       [nan],\n",
              "       [nan],\n",
              "       [nan],\n",
              "       [nan],\n",
              "       [nan],\n",
              "       [nan],\n",
              "       [nan],\n",
              "       [nan],\n",
              "       [nan],\n",
              "       [nan],\n",
              "       [nan],\n",
              "       [nan],\n",
              "       [nan],\n",
              "       [nan],\n",
              "       [nan],\n",
              "       [nan],\n",
              "       [nan],\n",
              "       [nan],\n",
              "       [nan],\n",
              "       [nan],\n",
              "       [nan],\n",
              "       [nan],\n",
              "       [nan],\n",
              "       [nan],\n",
              "       [nan],\n",
              "       [nan],\n",
              "       [nan],\n",
              "       [nan],\n",
              "       [nan],\n",
              "       [nan],\n",
              "       [nan],\n",
              "       [nan],\n",
              "       [nan],\n",
              "       [nan],\n",
              "       [nan],\n",
              "       [nan],\n",
              "       [nan],\n",
              "       [nan],\n",
              "       [nan],\n",
              "       [nan],\n",
              "       [nan],\n",
              "       [nan],\n",
              "       [nan],\n",
              "       [nan],\n",
              "       [nan],\n",
              "       [nan],\n",
              "       [nan],\n",
              "       [nan],\n",
              "       [nan],\n",
              "       [nan],\n",
              "       [nan],\n",
              "       [nan],\n",
              "       [nan],\n",
              "       [nan],\n",
              "       [nan],\n",
              "       [nan],\n",
              "       [nan],\n",
              "       [nan],\n",
              "       [nan],\n",
              "       [nan],\n",
              "       [nan],\n",
              "       [nan],\n",
              "       [nan],\n",
              "       [nan],\n",
              "       [nan],\n",
              "       [nan],\n",
              "       [nan],\n",
              "       [nan],\n",
              "       [nan],\n",
              "       [nan],\n",
              "       [nan],\n",
              "       [nan],\n",
              "       [nan],\n",
              "       [nan],\n",
              "       [nan],\n",
              "       [nan],\n",
              "       [nan],\n",
              "       [nan],\n",
              "       [nan],\n",
              "       [nan]], dtype=float32)"
            ]
          },
          "execution_count": 153,
          "metadata": {},
          "output_type": "execute_result"
        }
      ],
      "source": [
        "test_scaled = sc.fit_transform(test)\n",
        "\n",
        "X_test = []\n",
        "for i in range(60,len(test_scaled)):\n",
        "    X_test.append(test_scaled[i-60:i,0])\n",
        "\n",
        "X_test = np.array(X_test)\n",
        "X_test = np.reshape(X_test, (X_test.shape[0],X_test.shape[1],1))\n",
        "\n",
        "# Realizamos la prediccion y aplicamos normalización inversa para que esté en escala real\n",
        "prediccion = modelo.predict(X_test)\n",
        "prediccion = sc.inverse_transform(prediccion)\n",
        "\n",
        "prediccion"
      ]
    },
    {
      "cell_type": "markdown",
      "metadata": {
        "id": "VXteqpJ1j5Y1"
      },
      "source": [
        "## **Visualización del resultado**"
      ]
    },
    {
      "cell_type": "code",
      "execution_count": 154,
      "metadata": {
        "colab": {
          "base_uri": "https://localhost:8080/"
        },
        "id": "wZl9Hdd3ni-S",
        "outputId": "1a772b7e-0112-443a-c868-78735d50e11d"
      },
      "outputs": [
        {
          "name": "stderr",
          "output_type": "stream",
          "text": [
            "<ipython-input-154-d22ede58e163>:2: SettingWithCopyWarning: \n",
            "A value is trying to be set on a copy of a slice from a DataFrame.\n",
            "Try using .loc[row_indexer,col_indexer] = value instead\n",
            "\n",
            "See the caveats in the documentation: https://pandas.pydata.org/pandas-docs/stable/user_guide/indexing.html#returning-a-view-versus-a-copy\n",
            "  resultados['Prediccion'] = prediccion\n"
          ]
        }
      ],
      "source": [
        "resultados = test.tail(len(test)-60)\n",
        "resultados['Prediccion'] = prediccion"
      ]
    },
    {
      "cell_type": "code",
      "execution_count": 155,
      "metadata": {
        "colab": {
          "base_uri": "https://localhost:8080/",
          "height": 279
        },
        "id": "NZlQ9QN0pngx",
        "outputId": "0976bf94-4c36-4f3a-8cc6-ef9b3298bfd7"
      },
      "outputs": [
        {
          "data": {
            "image/png": "[encoded data removed]",
            "text/plain": [
              "<Figure size 432x288 with 1 Axes>"
            ]
          },
          "metadata": {
            "needs_background": "light"
          },
          "output_type": "display_data"
        }
      ],
      "source": [
        "plt.plot(train['Temp'], color='green')\n",
        "plt.plot(resultados['Temp'], color='red', label='Valor real de Temp')\n",
        "plt.plot(resultados['Prediccion'], color='blue', label='Predicción de Temp')\n",
        "#plt.ylim(1.1 * np.min(resultados['Prediccion'])/2, 1.1 * np.max(resultados['Prediccion']))\n",
        "plt.xlabel('Tiempo')\n",
        "plt.ylabel('Valor de Temp')\n",
        "plt.legend()\n",
        "plt.show()"
      ]
    },
    {
      "cell_type": "code",
      "execution_count": 158,
      "metadata": {
        "colab": {
          "base_uri": "https://localhost:8080/",
          "height": 296
        },
        "id": "vFoFfFpV-nFN",
        "outputId": "b0d70b80-fe85-48f5-f0b4-60fc8d4686c1"
      },
      "outputs": [
        {
          "data": {
            "image/png": "[encoded data removed]",
            "text/plain": [
              "<Figure size 432x288 with 1 Axes>"
            ]
          },
          "metadata": {
            "needs_background": "light"
          },
          "output_type": "display_data"
        }
      ],
      "source": [
        "plt.plot(resultados['Temp'], color='red', label='Valor real de Temp')\n",
        "plt.plot(resultados['Prediccion'], color='blue', label='Predicción de Temp')\n",
        "plt.xlabel('Tiempo')\n",
        "plt.ylabel('Valor de Temp')\n",
        "plt.legend()\n",
        "plt.show()"
      ]
    },
    {
      "cell_type": "code",
      "execution_count": 159,
      "metadata": {
        "colab": {
          "base_uri": "https://localhost:8080/"
        },
        "id": "8puDoWJtsrzG",
        "outputId": "e2d95ddc-67fd-4854-b676-45a320daee55"
      },
      "outputs": [
        {
          "ename": "ValueError",
          "evalue": "Input contains NaN, infinity or a value too large for dtype('float32').",
          "output_type": "error",
          "traceback": [
            "\u001b[1;31m---------------------------------------------------------------------------\u001b[0m",
            "\u001b[1;31mValueError\u001b[0m                                Traceback (most recent call last)",
            "\u001b[1;32m<ipython-input-159-d8be3c491a89>\u001b[0m in \u001b[0;36m<module>\u001b[1;34m\u001b[0m\n\u001b[0;32m      2\u001b[0m \u001b[1;33m\u001b[0m\u001b[0m\n\u001b[0;32m      3\u001b[0m \u001b[1;31m# Error absoluto medio en la predicción\u001b[0m\u001b[1;33m\u001b[0m\u001b[1;33m\u001b[0m\u001b[1;33m\u001b[0m\u001b[0m\n\u001b[1;32m----> 4\u001b[1;33m \u001b[0mmean_absolute_error\u001b[0m\u001b[1;33m(\u001b[0m\u001b[0mresultados\u001b[0m\u001b[1;33m[\u001b[0m\u001b[1;34m'Prediccion'\u001b[0m\u001b[1;33m]\u001b[0m\u001b[1;33m,\u001b[0m \u001b[0mresultados\u001b[0m\u001b[1;33m[\u001b[0m\u001b[1;34m'Temp'\u001b[0m\u001b[1;33m]\u001b[0m\u001b[1;33m)\u001b[0m\u001b[1;33m\u001b[0m\u001b[1;33m\u001b[0m\u001b[0m\n\u001b[0m",
            "\u001b[1;32mc:\\Users\\Santiago\\anaconda3\\lib\\site-packages\\sklearn\\utils\\validation.py\u001b[0m in \u001b[0;36minner_f\u001b[1;34m(*args, **kwargs)\u001b[0m\n\u001b[0;32m     61\u001b[0m             \u001b[0mextra_args\u001b[0m \u001b[1;33m=\u001b[0m \u001b[0mlen\u001b[0m\u001b[1;33m(\u001b[0m\u001b[0margs\u001b[0m\u001b[1;33m)\u001b[0m \u001b[1;33m-\u001b[0m \u001b[0mlen\u001b[0m\u001b[1;33m(\u001b[0m\u001b[0mall_args\u001b[0m\u001b[1;33m)\u001b[0m\u001b[1;33m\u001b[0m\u001b[1;33m\u001b[0m\u001b[0m\n\u001b[0;32m     62\u001b[0m             \u001b[1;32mif\u001b[0m \u001b[0mextra_args\u001b[0m \u001b[1;33m<=\u001b[0m \u001b[1;36m0\u001b[0m\u001b[1;33m:\u001b[0m\u001b[1;33m\u001b[0m\u001b[1;33m\u001b[0m\u001b[0m\n\u001b[1;32m---> 63\u001b[1;33m                 \u001b[1;32mreturn\u001b[0m \u001b[0mf\u001b[0m\u001b[1;33m(\u001b[0m\u001b[1;33m*\u001b[0m\u001b[0margs\u001b[0m\u001b[1;33m,\u001b[0m \u001b[1;33m**\u001b[0m\u001b[0mkwargs\u001b[0m\u001b[1;33m)\u001b[0m\u001b[1;33m\u001b[0m\u001b[1;33m\u001b[0m\u001b[0m\n\u001b[0m\u001b[0;32m     64\u001b[0m \u001b[1;33m\u001b[0m\u001b[0m\n\u001b[0;32m     65\u001b[0m             \u001b[1;31m# extra_args > 0\u001b[0m\u001b[1;33m\u001b[0m\u001b[1;33m\u001b[0m\u001b[1;33m\u001b[0m\u001b[0m\n",
            "\u001b[1;32mc:\\Users\\Santiago\\anaconda3\\lib\\site-packages\\sklearn\\metrics\\_regression.py\u001b[0m in \u001b[0;36mmean_absolute_error\u001b[1;34m(y_true, y_pred, sample_weight, multioutput)\u001b[0m\n\u001b[0;32m    180\u001b[0m     \u001b[1;36m0.85\u001b[0m\u001b[1;33m...\u001b[0m\u001b[1;33m\u001b[0m\u001b[1;33m\u001b[0m\u001b[0m\n\u001b[0;32m    181\u001b[0m     \"\"\"\n\u001b[1;32m--> 182\u001b[1;33m     y_type, y_true, y_pred, multioutput = _check_reg_targets(\n\u001b[0m\u001b[0;32m    183\u001b[0m         y_true, y_pred, multioutput)\n\u001b[0;32m    184\u001b[0m     \u001b[0mcheck_consistent_length\u001b[0m\u001b[1;33m(\u001b[0m\u001b[0my_true\u001b[0m\u001b[1;33m,\u001b[0m \u001b[0my_pred\u001b[0m\u001b[1;33m,\u001b[0m \u001b[0msample_weight\u001b[0m\u001b[1;33m)\u001b[0m\u001b[1;33m\u001b[0m\u001b[1;33m\u001b[0m\u001b[0m\n",
            "\u001b[1;32mc:\\Users\\Santiago\\anaconda3\\lib\\site-packages\\sklearn\\metrics\\_regression.py\u001b[0m in \u001b[0;36m_check_reg_targets\u001b[1;34m(y_true, y_pred, multioutput, dtype)\u001b[0m\n\u001b[0;32m     87\u001b[0m     \"\"\"\n\u001b[0;32m     88\u001b[0m     \u001b[0mcheck_consistent_length\u001b[0m\u001b[1;33m(\u001b[0m\u001b[0my_true\u001b[0m\u001b[1;33m,\u001b[0m \u001b[0my_pred\u001b[0m\u001b[1;33m)\u001b[0m\u001b[1;33m\u001b[0m\u001b[1;33m\u001b[0m\u001b[0m\n\u001b[1;32m---> 89\u001b[1;33m     \u001b[0my_true\u001b[0m \u001b[1;33m=\u001b[0m \u001b[0mcheck_array\u001b[0m\u001b[1;33m(\u001b[0m\u001b[0my_true\u001b[0m\u001b[1;33m,\u001b[0m \u001b[0mensure_2d\u001b[0m\u001b[1;33m=\u001b[0m\u001b[1;32mFalse\u001b[0m\u001b[1;33m,\u001b[0m \u001b[0mdtype\u001b[0m\u001b[1;33m=\u001b[0m\u001b[0mdtype\u001b[0m\u001b[1;33m)\u001b[0m\u001b[1;33m\u001b[0m\u001b[1;33m\u001b[0m\u001b[0m\n\u001b[0m\u001b[0;32m     90\u001b[0m     \u001b[0my_pred\u001b[0m \u001b[1;33m=\u001b[0m \u001b[0mcheck_array\u001b[0m\u001b[1;33m(\u001b[0m\u001b[0my_pred\u001b[0m\u001b[1;33m,\u001b[0m \u001b[0mensure_2d\u001b[0m\u001b[1;33m=\u001b[0m\u001b[1;32mFalse\u001b[0m\u001b[1;33m,\u001b[0m \u001b[0mdtype\u001b[0m\u001b[1;33m=\u001b[0m\u001b[0mdtype\u001b[0m\u001b[1;33m)\u001b[0m\u001b[1;33m\u001b[0m\u001b[1;33m\u001b[0m\u001b[0m\n\u001b[0;32m     91\u001b[0m \u001b[1;33m\u001b[0m\u001b[0m\n",
            "\u001b[1;32mc:\\Users\\Santiago\\anaconda3\\lib\\site-packages\\sklearn\\utils\\validation.py\u001b[0m in \u001b[0;36minner_f\u001b[1;34m(*args, **kwargs)\u001b[0m\n\u001b[0;32m     61\u001b[0m             \u001b[0mextra_args\u001b[0m \u001b[1;33m=\u001b[0m \u001b[0mlen\u001b[0m\u001b[1;33m(\u001b[0m\u001b[0margs\u001b[0m\u001b[1;33m)\u001b[0m \u001b[1;33m-\u001b[0m \u001b[0mlen\u001b[0m\u001b[1;33m(\u001b[0m\u001b[0mall_args\u001b[0m\u001b[1;33m)\u001b[0m\u001b[1;33m\u001b[0m\u001b[1;33m\u001b[0m\u001b[0m\n\u001b[0;32m     62\u001b[0m             \u001b[1;32mif\u001b[0m \u001b[0mextra_args\u001b[0m \u001b[1;33m<=\u001b[0m \u001b[1;36m0\u001b[0m\u001b[1;33m:\u001b[0m\u001b[1;33m\u001b[0m\u001b[1;33m\u001b[0m\u001b[0m\n\u001b[1;32m---> 63\u001b[1;33m                 \u001b[1;32mreturn\u001b[0m \u001b[0mf\u001b[0m\u001b[1;33m(\u001b[0m\u001b[1;33m*\u001b[0m\u001b[0margs\u001b[0m\u001b[1;33m,\u001b[0m \u001b[1;33m**\u001b[0m\u001b[0mkwargs\u001b[0m\u001b[1;33m)\u001b[0m\u001b[1;33m\u001b[0m\u001b[1;33m\u001b[0m\u001b[0m\n\u001b[0m\u001b[0;32m     64\u001b[0m \u001b[1;33m\u001b[0m\u001b[0m\n\u001b[0;32m     65\u001b[0m             \u001b[1;31m# extra_args > 0\u001b[0m\u001b[1;33m\u001b[0m\u001b[1;33m\u001b[0m\u001b[1;33m\u001b[0m\u001b[0m\n",
            "\u001b[1;32mc:\\Users\\Santiago\\anaconda3\\lib\\site-packages\\sklearn\\utils\\validation.py\u001b[0m in \u001b[0;36mcheck_array\u001b[1;34m(array, accept_sparse, accept_large_sparse, dtype, order, copy, force_all_finite, ensure_2d, allow_nd, ensure_min_samples, ensure_min_features, estimator)\u001b[0m\n\u001b[0;32m    661\u001b[0m \u001b[1;33m\u001b[0m\u001b[0m\n\u001b[0;32m    662\u001b[0m         \u001b[1;32mif\u001b[0m \u001b[0mforce_all_finite\u001b[0m\u001b[1;33m:\u001b[0m\u001b[1;33m\u001b[0m\u001b[1;33m\u001b[0m\u001b[0m\n\u001b[1;32m--> 663\u001b[1;33m             _assert_all_finite(array,\n\u001b[0m\u001b[0;32m    664\u001b[0m                                allow_nan=force_all_finite == 'allow-nan')\n\u001b[0;32m    665\u001b[0m \u001b[1;33m\u001b[0m\u001b[0m\n",
            "\u001b[1;32mc:\\Users\\Santiago\\anaconda3\\lib\\site-packages\\sklearn\\utils\\validation.py\u001b[0m in \u001b[0;36m_assert_all_finite\u001b[1;34m(X, allow_nan, msg_dtype)\u001b[0m\n\u001b[0;32m    101\u001b[0m                 not allow_nan and not np.isfinite(X).all()):\n\u001b[0;32m    102\u001b[0m             \u001b[0mtype_err\u001b[0m \u001b[1;33m=\u001b[0m \u001b[1;34m'infinity'\u001b[0m \u001b[1;32mif\u001b[0m \u001b[0mallow_nan\u001b[0m \u001b[1;32melse\u001b[0m \u001b[1;34m'NaN, infinity'\u001b[0m\u001b[1;33m\u001b[0m\u001b[1;33m\u001b[0m\u001b[0m\n\u001b[1;32m--> 103\u001b[1;33m             raise ValueError(\n\u001b[0m\u001b[0;32m    104\u001b[0m                     \u001b[0mmsg_err\u001b[0m\u001b[1;33m.\u001b[0m\u001b[0mformat\u001b[0m\u001b[1;33m\u001b[0m\u001b[1;33m\u001b[0m\u001b[0m\n\u001b[0;32m    105\u001b[0m                     (type_err,\n",
            "\u001b[1;31mValueError\u001b[0m: Input contains NaN, infinity or a value too large for dtype('float32')."
          ]
        }
      ],
      "source": [
        "from sklearn.metrics import mean_absolute_error\n",
        "\n",
        "# Error absoluto medio en la predicción\n",
        "mean_absolute_error(resultados['Prediccion'], resultados['Temp'])"
      ]
    },
    {
      "cell_type": "markdown",
      "metadata": {
        "id": "xhoI8ijhtKHQ"
      },
      "source": [
        "## **Conclusiones**"
      ]
    },
    {
      "cell_type": "markdown",
      "metadata": {
        "id": "goMh9uzmtOTK"
      },
      "source": [
        "Una vez creado el modelo puede tener una aplicación práctica. Cuando cierra el mercado y ya conocemos el máximo del día se puede inferir el máximo del día siguiente y efectuar las operaciones oportunas."
      ]
    }
  ],
  "metadata": {
    "colab": {
      "name": "SAA-UD06-P08-Trading_LSTM.ipynb",
      "provenance": []
    },
    "interpreter": {
      "hash": "997767116ae04da281f657ba1ef80941fde8037360d002d2f6ec7e11d1f836d2"
    },
    "kernelspec": {
      "display_name": "Python 3.8.8 ('base')",
      "language": "python",
      "name": "python3"
    },
    "language_info": {
      "codemirror_mode": {
        "name": "ipython",
        "version": 3
      },
      "file_extension": ".py",
      "mimetype": "text/x-python",
      "name": "python",
      "nbconvert_exporter": "python",
      "pygments_lexer": "ipython3",
      "version": "3.8.8"
    }
  },
  "nbformat": 4,
  "nbformat_minor": 0
}
